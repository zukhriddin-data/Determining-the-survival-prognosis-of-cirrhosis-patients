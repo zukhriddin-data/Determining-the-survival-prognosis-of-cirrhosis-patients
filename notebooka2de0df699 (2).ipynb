{
 "cells": [
  {
   "cell_type": "code",
   "execution_count": 1,
   "id": "6225f555",
   "metadata": {
    "_cell_guid": "b1076dfc-b9ad-4769-8c92-a6c4dae69d19",
    "_uuid": "8f2839f25d086af736a60e9eeb907d3b93b6e0e5",
    "execution": {
     "iopub.execute_input": "2025-04-05T17:23:16.558600Z",
     "iopub.status.busy": "2025-04-05T17:23:16.558247Z",
     "iopub.status.idle": "2025-04-05T17:23:23.460720Z",
     "shell.execute_reply": "2025-04-05T17:23:23.459404Z"
    },
    "papermill": {
     "duration": 6.910945,
     "end_time": "2025-04-05T17:23:23.462649",
     "exception": false,
     "start_time": "2025-04-05T17:23:16.551704",
     "status": "completed"
    },
    "tags": []
   },
   "outputs": [
    {
     "name": "stdout",
     "output_type": "stream",
     "text": [
      "/kaggle/input/multiclassificationtask/sample_submission.csv\n",
      "/kaggle/input/multiclassificationtask/train.csv\n",
      "/kaggle/input/multiclassificationtask/test.csv\n"
     ]
    }
   ],
   "source": [
    "# This Python 3 environment comes with many helpful analytics libraries installed\n",
    "# It is defined by the kaggle/python Docker image: https://github.com/kaggle/docker-python\n",
    "# For example, here's several helpful packages to load\n",
    "\n",
    "import numpy as np # linear algebra\n",
    "import pandas as pd # data processing, CSV file I/O (e.g. pd.read_csv)\n",
    "import seaborn as sns\n",
    "import matplotlib.pyplot as plt\n",
    "from sklearn.preprocessing import StandardScaler, LabelEncoder\n",
    "import lightgbm as lgb\n",
    "from sklearn.model_selection import train_test_split\n",
    "from sklearn.metrics import log_loss\n",
    "from sklearn.preprocessing import LabelEncoder\n",
    "from sklearn.model_selection import train_test_split\n",
    "from sklearn.ensemble import GradientBoostingClassifier\n",
    "import xgboost as xgb\n",
    "from sklearn.metrics import log_loss\n",
    "import lightgbm as lgb\n",
    "from sklearn.metrics import log_loss\n",
    "\n",
    "\n",
    "\n",
    "\n",
    "# Input data files are available in the read-only \"../input/\" directory\n",
    "# For example, running this (by clicking run or pressing Shift+Enter) will list all files under the input directory\n",
    "\n",
    "import os\n",
    "for dirname, _, filenames in os.walk('/kaggle/input'):\n",
    "    for filename in filenames:\n",
    "        print(os.path.join(dirname, filename))\n",
    "\n",
    "# You can write up to 20GB to the current directory (/kaggle/working/) that gets preserved as output when you create a version using \"Save & Run All\" \n",
    "# You can also write temporary files to /kaggle/temp/, but they won't be saved outside of the current session"
   ]
  },
  {
   "cell_type": "markdown",
   "id": "6f4638f1",
   "metadata": {
    "papermill": {
     "duration": 0.004458,
     "end_time": "2025-04-05T17:23:23.472262",
     "exception": false,
     "start_time": "2025-04-05T17:23:23.467804",
     "status": "completed"
    },
    "tags": []
   },
   "source": [
    "**Train faylidagi ma'lumotlarni yuklab olamiz:**"
   ]
  },
  {
   "cell_type": "code",
   "execution_count": 2,
   "id": "9783067d",
   "metadata": {
    "execution": {
     "iopub.execute_input": "2025-04-05T17:23:23.483648Z",
     "iopub.status.busy": "2025-04-05T17:23:23.482920Z",
     "iopub.status.idle": "2025-04-05T17:23:23.635001Z",
     "shell.execute_reply": "2025-04-05T17:23:23.633667Z"
    },
    "papermill": {
     "duration": 0.159581,
     "end_time": "2025-04-05T17:23:23.636882",
     "exception": false,
     "start_time": "2025-04-05T17:23:23.477301",
     "status": "completed"
    },
    "tags": []
   },
   "outputs": [
    {
     "name": "stdout",
     "output_type": "stream",
     "text": [
      "   id  N_Days             Drug      Age Sex Ascites Hepatomegaly Spiders  \\\n",
      "0   0  2178.0  D-penicillamine  16374.0   F       N            N       N   \n",
      "1   1  2644.0  D-penicillamine  17774.0   F       N            N       N   \n",
      "2   2  3069.0          Placebo  17844.0   F       N            N       N   \n",
      "3   3  2216.0          Placebo  19221.0   F       N            Y       Y   \n",
      "4   4  2256.0          Placebo  21600.0   F       N            N       N   \n",
      "\n",
      "  Edema  Bilirubin  Cholesterol  Albumin  Copper  Alk_Phos    SGOT  \\\n",
      "0     N        0.5        263.0     3.20    43.0    1110.0  106.95   \n",
      "1     N        0.8        280.0     3.60    22.0     678.0   62.00   \n",
      "2     N        1.1        408.0     4.40    54.0    2108.0  142.60   \n",
      "3     N        0.8        252.0     3.70    36.0     843.0   55.80   \n",
      "4     N        4.7        348.0     3.06   464.0     961.0  120.90   \n",
      "\n",
      "   Tryglicerides  Platelets  Prothrombin  Stage Status  \n",
      "0           67.0      430.0          9.6    3.0      C  \n",
      "1           80.0      427.0         13.0    3.0      C  \n",
      "2          137.0      203.0         10.6    3.0      C  \n",
      "3           56.0      336.0          9.6    4.0      C  \n",
      "4          146.0      298.0         11.0    2.0      D  \n",
      "Train Data Info:\n",
      "<class 'pandas.core.frame.DataFrame'>\n",
      "RangeIndex: 15000 entries, 0 to 14999\n",
      "Data columns (total 20 columns):\n",
      " #   Column         Non-Null Count  Dtype  \n",
      "---  ------         --------------  -----  \n",
      " 0   id             15000 non-null  int64  \n",
      " 1   N_Days         15000 non-null  float64\n",
      " 2   Drug           8494 non-null   object \n",
      " 3   Age            15000 non-null  float64\n",
      " 4   Sex            15000 non-null  object \n",
      " 5   Ascites        8502 non-null   object \n",
      " 6   Hepatomegaly   8492 non-null   object \n",
      " 7   Spiders        8491 non-null   object \n",
      " 8   Edema          15000 non-null  object \n",
      " 9   Bilirubin      15000 non-null  float64\n",
      " 10  Cholesterol    6701 non-null   float64\n",
      " 11  Albumin        15000 non-null  float64\n",
      " 12  Copper         8399 non-null   float64\n",
      " 13  Alk_Phos       8488 non-null   float64\n",
      " 14  SGOT           8486 non-null   float64\n",
      " 15  Tryglicerides  6666 non-null   float64\n",
      " 16  Platelets      14436 non-null  float64\n",
      " 17  Prothrombin    14984 non-null  float64\n",
      " 18  Stage          15000 non-null  float64\n",
      " 19  Status         15000 non-null  object \n",
      "dtypes: float64(12), int64(1), object(7)\n",
      "memory usage: 2.3+ MB\n",
      "None\n",
      "\n",
      "Train Data Description:\n",
      "                 id        N_Days            Age     Bilirubin  Cholesterol  \\\n",
      "count  15000.000000  15000.000000   15000.000000  15000.000000  6701.000000   \n",
      "mean    7499.500000   1971.721267   19298.658267      1.845433   329.177302   \n",
      "std     4330.271354   1333.733576    3797.580260      2.674859   180.320802   \n",
      "min        0.000000      3.000000     400.000000      0.200000   120.000000   \n",
      "25%     3749.750000   1095.000000   16658.000000      0.600000   242.000000   \n",
      "50%     7499.500000   1786.000000   19544.000000      0.900000   280.000000   \n",
      "75%    11249.250000   2635.000000   22347.000000      1.800000   364.000000   \n",
      "max    14999.000000  38320.000000  129398.000000     28.000000  2078.000000   \n",
      "\n",
      "            Albumin       Copper      Alk_Phos         SGOT  Tryglicerides  \\\n",
      "count  15000.000000  8399.000000   8488.000000  8486.000000    6666.000000   \n",
      "mean       3.526103    75.647339   1618.598233   106.483631     111.387886   \n",
      "std        0.372268    74.830472   1767.240078    57.206017      55.056133   \n",
      "min        0.500000     2.000000      3.400000     0.900000      19.000000   \n",
      "25%        3.290000    31.000000    720.000000    71.000000      80.000000   \n",
      "50%        3.580000    52.000000   1072.000000    97.650000      99.000000   \n",
      "75%        3.770000    89.000000   1664.000000   130.200000     133.000000   \n",
      "max        4.640000   662.000000  13862.400000  2653.000000    1669.000000   \n",
      "\n",
      "          Platelets   Prothrombin         Stage  \n",
      "count  14436.000000  14984.000000  15000.000000  \n",
      "mean     252.917983     10.626111      3.024800  \n",
      "std       94.049175      0.731416      0.871303  \n",
      "min       32.000000      9.000000      1.000000  \n",
      "25%      181.000000     10.100000      2.000000  \n",
      "50%      248.000000     10.600000      3.000000  \n",
      "75%      311.000000     11.000000      4.000000  \n",
      "max     1024.000000     18.000000      4.000000  \n"
     ]
    }
   ],
   "source": [
    "train_data = pd.read_csv('/kaggle/input/multiclassificationtask/train.csv')  \n",
    "print(train_data.head())  \n",
    "\n",
    "print(\"Train Data Info:\")\n",
    "print(train_data.info())  \n",
    "\n",
    "print(\"\\nTrain Data Description:\")\n",
    "print(train_data.describe())  \n"
   ]
  },
  {
   "cell_type": "markdown",
   "id": "dc8b663d",
   "metadata": {
    "papermill": {
     "duration": 0.004438,
     "end_time": "2025-04-05T17:23:23.646336",
     "exception": false,
     "start_time": "2025-04-05T17:23:23.641898",
     "status": "completed"
    },
    "tags": []
   },
   "source": [
    "**Ma'lumotlar ustida ishlaymiz:**"
   ]
  },
  {
   "cell_type": "code",
   "execution_count": 3,
   "id": "5739e375",
   "metadata": {
    "execution": {
     "iopub.execute_input": "2025-04-05T17:23:23.657008Z",
     "iopub.status.busy": "2025-04-05T17:23:23.656634Z",
     "iopub.status.idle": "2025-04-05T17:23:23.670647Z",
     "shell.execute_reply": "2025-04-05T17:23:23.669221Z"
    },
    "papermill": {
     "duration": 0.021747,
     "end_time": "2025-04-05T17:23:23.672725",
     "exception": false,
     "start_time": "2025-04-05T17:23:23.650978",
     "status": "completed"
    },
    "tags": []
   },
   "outputs": [
    {
     "name": "stdout",
     "output_type": "stream",
     "text": [
      "id                0.000000\n",
      "N_Days            0.000000\n",
      "Drug             43.373333\n",
      "Age               0.000000\n",
      "Sex               0.000000\n",
      "Ascites          43.320000\n",
      "Hepatomegaly     43.386667\n",
      "Spiders          43.393333\n",
      "Edema             0.000000\n",
      "Bilirubin         0.000000\n",
      "Cholesterol      55.326667\n",
      "Albumin           0.000000\n",
      "Copper           44.006667\n",
      "Alk_Phos         43.413333\n",
      "SGOT             43.426667\n",
      "Tryglicerides    55.560000\n",
      "Platelets         3.760000\n",
      "Prothrombin       0.106667\n",
      "Stage             0.000000\n",
      "Status            0.000000\n",
      "dtype: float64\n"
     ]
    }
   ],
   "source": [
    "null_percentage = (train_data.isnull().sum() / len(train_data)) * 100\n",
    "\n",
    "print(null_percentage)"
   ]
  },
  {
   "cell_type": "code",
   "execution_count": 4,
   "id": "8b44b900",
   "metadata": {
    "execution": {
     "iopub.execute_input": "2025-04-05T17:23:23.683757Z",
     "iopub.status.busy": "2025-04-05T17:23:23.683391Z",
     "iopub.status.idle": "2025-04-05T17:23:23.714639Z",
     "shell.execute_reply": "2025-04-05T17:23:23.713087Z"
    },
    "papermill": {
     "duration": 0.03888,
     "end_time": "2025-04-05T17:23:23.716499",
     "exception": false,
     "start_time": "2025-04-05T17:23:23.677619",
     "status": "completed"
    },
    "tags": []
   },
   "outputs": [
    {
     "name": "stdout",
     "output_type": "stream",
     "text": [
      "id             0\n",
      "N_Days         0\n",
      "Age            0\n",
      "Sex            0\n",
      "Edema          0\n",
      "Bilirubin      0\n",
      "Albumin        0\n",
      "Platelets      0\n",
      "Prothrombin    0\n",
      "Stage          0\n",
      "Status         0\n",
      "dtype: int64\n"
     ]
    }
   ],
   "source": [
    "train_data = train_data.drop(columns=['Drug', 'Cholesterol', 'Tryglicerides', 'Ascites' , 'Hepatomegaly' , 'Spiders' , 'Copper' , 'Alk_Phos' , 'SGOT'])\n",
    "\n",
    "numerical_cols = train_data.select_dtypes(include=['float64']).columns\n",
    "train_data[numerical_cols] = train_data[numerical_cols].fillna(train_data[numerical_cols].median())\n",
    "\n",
    "categorical_cols = train_data.select_dtypes(include=['object']).columns\n",
    "for col in categorical_cols:\n",
    "    train_data[col] = train_data[col].fillna(train_data[col].mode()[0])\n",
    "    \n",
    "print(train_data.isnull().sum())\n"
   ]
  },
  {
   "cell_type": "markdown",
   "id": "317c443b",
   "metadata": {
    "papermill": {
     "duration": 0.004606,
     "end_time": "2025-04-05T17:23:23.726294",
     "exception": false,
     "start_time": "2025-04-05T17:23:23.721688",
     "status": "completed"
    },
    "tags": []
   },
   "source": [
    "**Null qiymatlar bilan ishlash**\n",
    "\n",
    "Dastlab, train to'plamidagi barcha ustunlarda null qiymatlarni tekshirib chiqdim. Bu orqali, ba'zi ustunlar, masalan, Drug, Cholesterol, va Tryglicerides kabi ustunlarda juda ko'p null qiymatlar borligini ko'rdim. Bu ustunlar model uchun juda ko'p yo'qotishlar keltirib chiqarishi mumkin, shuning uchun ularni olib tashlashga qaror qildim.\n",
    "\n",
    "Keyin, numerik ustunlar bo'yicha null qiymatlarni to'ldirdim. Buning uchun har bir ustun uchun median qiymatini hisoblab chiqib, bu qiymat bilan null qiymatlarni to'ldirdim. \n",
    "\n",
    "Kategorik ustunlar uchun esa, null qiymatlarni eng ko'p uchraydigan qiymat, ya'ni mod bilan to'ldirdim. Bu usulda, har bir ustun bo'yicha eng ko'p uchragan qiymatni topdim va null qiymatlarni shu qiymat bilan almashtirdim."
   ]
  },
  {
   "cell_type": "code",
   "execution_count": 5,
   "id": "fa69911b",
   "metadata": {
    "execution": {
     "iopub.execute_input": "2025-04-05T17:23:23.738009Z",
     "iopub.status.busy": "2025-04-05T17:23:23.737664Z",
     "iopub.status.idle": "2025-04-05T17:23:23.749268Z",
     "shell.execute_reply": "2025-04-05T17:23:23.748017Z"
    },
    "papermill": {
     "duration": 0.019305,
     "end_time": "2025-04-05T17:23:23.750871",
     "exception": false,
     "start_time": "2025-04-05T17:23:23.731566",
     "status": "completed"
    },
    "tags": []
   },
   "outputs": [
    {
     "name": "stdout",
     "output_type": "stream",
     "text": [
      "Edema\n",
      "N    13845\n",
      "S      792\n",
      "Y      363\n",
      "Name: count, dtype: int64\n",
      "Status\n",
      "C     10053\n",
      "D      4565\n",
      "CL      381\n",
      "Y         1\n",
      "Name: count, dtype: int64\n",
      "Sex\n",
      "F    14392\n",
      "M      608\n",
      "Name: count, dtype: int64\n"
     ]
    }
   ],
   "source": [
    "print(train_data['Edema'].value_counts())\n",
    "print(train_data['Status'].value_counts())\n",
    "print(train_data['Sex'].value_counts())"
   ]
  },
  {
   "cell_type": "markdown",
   "id": "a5dcf91c",
   "metadata": {
    "papermill": {
     "duration": 0.004629,
     "end_time": "2025-04-05T17:23:23.760924",
     "exception": false,
     "start_time": "2025-04-05T17:23:23.756295",
     "status": "completed"
    },
    "tags": []
   },
   "source": [
    "**ML ga tayyorgarlik:**"
   ]
  },
  {
   "cell_type": "code",
   "execution_count": 6,
   "id": "2e9330ff",
   "metadata": {
    "execution": {
     "iopub.execute_input": "2025-04-05T17:23:23.772078Z",
     "iopub.status.busy": "2025-04-05T17:23:23.771701Z",
     "iopub.status.idle": "2025-04-05T17:23:23.816096Z",
     "shell.execute_reply": "2025-04-05T17:23:23.814706Z"
    },
    "papermill": {
     "duration": 0.052011,
     "end_time": "2025-04-05T17:23:23.817963",
     "exception": false,
     "start_time": "2025-04-05T17:23:23.765952",
     "status": "completed"
    },
    "tags": []
   },
   "outputs": [
    {
     "name": "stdout",
     "output_type": "stream",
     "text": [
      "   id    N_Days       Age  Bilirubin   Albumin  Platelets  Prothrombin  \\\n",
      "0   0  0.154668 -0.770163  -0.503009 -0.876018   1.921267    -1.403667   \n",
      "1   1  0.504075 -0.401495  -0.390850  0.198512   1.888752     3.247483   \n",
      "2   2  0.822740 -0.383061  -0.278691  2.347573  -0.539020    -0.035682   \n",
      "3   3  0.183160 -0.020450  -0.390850  0.467145   0.902469    -1.403667   \n",
      "4   4  0.213152  0.606022   1.067220 -1.252104   0.490615     0.511513   \n",
      "\n",
      "      Stage Status  Sex_F  Sex_M  Edema_N  Edema_S  Edema_Y  \n",
      "0 -0.028464      C   True  False     True    False    False  \n",
      "1 -0.028464      C   True  False     True    False    False  \n",
      "2 -0.028464      C   True  False     True    False    False  \n",
      "3  1.119281      C   True  False     True    False    False  \n",
      "4 -1.176209      D   True  False     True    False    False  \n"
     ]
    }
   ],
   "source": [
    "train_data = pd.get_dummies(train_data, columns=['Sex', 'Edema'], drop_first=False)\n",
    "\n",
    "scaler = StandardScaler()\n",
    "\n",
    "numerical_columns = ['N_Days', 'Age', 'Bilirubin', 'Albumin', 'Platelets', 'Prothrombin', 'Stage']\n",
    "\n",
    "train_data[numerical_columns] = scaler.fit_transform(train_data[numerical_columns])\n",
    "\n",
    "print(train_data.head())"
   ]
  },
  {
   "cell_type": "code",
   "execution_count": 7,
   "id": "5a3aab12",
   "metadata": {
    "execution": {
     "iopub.execute_input": "2025-04-05T17:23:23.830415Z",
     "iopub.status.busy": "2025-04-05T17:23:23.830066Z",
     "iopub.status.idle": "2025-04-05T17:23:23.845492Z",
     "shell.execute_reply": "2025-04-05T17:23:23.844415Z"
    },
    "papermill": {
     "duration": 0.023184,
     "end_time": "2025-04-05T17:23:23.847327",
     "exception": false,
     "start_time": "2025-04-05T17:23:23.824143",
     "status": "completed"
    },
    "tags": []
   },
   "outputs": [
    {
     "name": "stdout",
     "output_type": "stream",
     "text": [
      "Train size: 12000 samples\n",
      "Validation size: 3000 samples\n",
      "Statuslar va ularning raqamlari: {'C': 0, 'CL': 1, 'D': 2, 'Y': 3}\n"
     ]
    }
   ],
   "source": [
    "X = train_data.drop(columns=['Status', 'id'])\n",
    "le = LabelEncoder()\n",
    "y = le.fit_transform(train_data['Status'])  \n",
    "\n",
    "X_train, X_val, y_train, y_val = train_test_split(X, y, test_size=0.2, random_state=42)\n",
    "\n",
    "print(f\"Train size: {X_train.shape[0]} samples\")\n",
    "print(f\"Validation size: {X_val.shape[0]} samples\")\n",
    "\n",
    "print(\"Statuslar va ularning raqamlari:\", dict(zip(le.classes_, range(len(le.classes_)))))"
   ]
  },
  {
   "cell_type": "markdown",
   "id": "85ce5d83",
   "metadata": {
    "papermill": {
     "duration": 0.004795,
     "end_time": "2025-04-05T17:23:23.857360",
     "exception": false,
     "start_time": "2025-04-05T17:23:23.852565",
     "status": "completed"
    },
    "tags": []
   },
   "source": [
    "**ML:**"
   ]
  },
  {
   "cell_type": "code",
   "execution_count": 8,
   "id": "22479ecd",
   "metadata": {
    "execution": {
     "iopub.execute_input": "2025-04-05T17:23:23.868705Z",
     "iopub.status.busy": "2025-04-05T17:23:23.868323Z",
     "iopub.status.idle": "2025-04-05T17:23:29.138270Z",
     "shell.execute_reply": "2025-04-05T17:23:29.137077Z"
    },
    "papermill": {
     "duration": 5.277754,
     "end_time": "2025-04-05T17:23:29.140084",
     "exception": false,
     "start_time": "2025-04-05T17:23:23.862330",
     "status": "completed"
    },
    "tags": []
   },
   "outputs": [
    {
     "name": "stdout",
     "output_type": "stream",
     "text": [
      "Log Loss: 0.38465106076984823\n"
     ]
    }
   ],
   "source": [
    "model = GradientBoostingClassifier(n_estimators=100, random_state=42)\n",
    "model.fit(X_train, y_train)  \n",
    "\n",
    "y_pred_prob = model.predict_proba(X_val)\n",
    "\n",
    "logloss = log_loss(y_val, y_pred_prob, labels=[0, 1, 2])  # 0, 1, 2 sinflari bilan log loss hisoblash\n",
    "\n",
    "print(f\"Log Loss: {logloss}\")\n"
   ]
  },
  {
   "cell_type": "code",
   "execution_count": 9,
   "id": "d6e7bea7",
   "metadata": {
    "execution": {
     "iopub.execute_input": "2025-04-05T17:23:29.152782Z",
     "iopub.status.busy": "2025-04-05T17:23:29.152442Z",
     "iopub.status.idle": "2025-04-05T17:23:29.669232Z",
     "shell.execute_reply": "2025-04-05T17:23:29.668234Z"
    },
    "papermill": {
     "duration": 0.525744,
     "end_time": "2025-04-05T17:23:29.671409",
     "exception": false,
     "start_time": "2025-04-05T17:23:29.145665",
     "status": "completed"
    },
    "tags": []
   },
   "outputs": [
    {
     "name": "stdout",
     "output_type": "stream",
     "text": [
      "Log Loss (XGBoost): 0.39748648673377\n"
     ]
    }
   ],
   "source": [
    "model_xgb = xgb.XGBClassifier(objective='multi:softmax', num_class=3, random_state=42)\n",
    "model_xgb.fit(X_train, y_train)\n",
    "\n",
    "y_pred_prob_xgb = model_xgb.predict_proba(X_val)\n",
    "\n",
    "logloss_xgb = log_loss(y_val, y_pred_prob_xgb, labels=[0, 1, 2])\n",
    "print(f\"Log Loss (XGBoost): {logloss_xgb}\")"
   ]
  },
  {
   "cell_type": "code",
   "execution_count": 10,
   "id": "5fe3a58e",
   "metadata": {
    "execution": {
     "iopub.execute_input": "2025-04-05T17:23:29.685068Z",
     "iopub.status.busy": "2025-04-05T17:23:29.684250Z",
     "iopub.status.idle": "2025-04-05T17:23:30.192780Z",
     "shell.execute_reply": "2025-04-05T17:23:30.190927Z"
    },
    "papermill": {
     "duration": 0.517094,
     "end_time": "2025-04-05T17:23:30.194826",
     "exception": false,
     "start_time": "2025-04-05T17:23:29.677732",
     "status": "completed"
    },
    "tags": []
   },
   "outputs": [
    {
     "name": "stdout",
     "output_type": "stream",
     "text": [
      "[LightGBM] [Info] Auto-choosing row-wise multi-threading, the overhead of testing was 0.003152 seconds.\n",
      "You can set `force_row_wise=true` to remove the overhead.\n",
      "And if memory is not enough, you can set `force_col_wise=true`.\n",
      "[LightGBM] [Info] Total Bins 1047\n",
      "[LightGBM] [Info] Number of data points in the train set: 12000, number of used features: 12\n",
      "[LightGBM] [Info] Start training from score -0.400353\n",
      "[LightGBM] [Info] Start training from score -3.669077\n",
      "[LightGBM] [Info] Start training from score -1.189358\n",
      "Log Loss (LightGBM): 0.38948790822587415\n"
     ]
    }
   ],
   "source": [
    "model_lgb = lgb.LGBMClassifier(objective='multiclass', num_class=3, random_state=42)\n",
    "model_lgb.fit(X_train, y_train)\n",
    "\n",
    "y_pred_prob_lgb = model_lgb.predict_proba(X_val)\n",
    "\n",
    "\n",
    "logloss_lgb = log_loss(y_val, y_pred_prob_lgb, labels=[0, 1, 2])\n",
    "print(f\"Log Loss (LightGBM): {logloss_lgb}\")"
   ]
  },
  {
   "cell_type": "markdown",
   "id": "d7103bb9",
   "metadata": {
    "papermill": {
     "duration": 0.005499,
     "end_time": "2025-04-05T17:23:30.206662",
     "exception": false,
     "start_time": "2025-04-05T17:23:30.201163",
     "status": "completed"
    },
    "tags": []
   },
   "source": [
    "***Log loss kamroq bo'lganligi uchun GradientBoostingClassifier modelini tanlaymiz va test file dagi ma'lumotlarni shu model orqali bashorat qilamiz:***"
   ]
  },
  {
   "cell_type": "code",
   "execution_count": 11,
   "id": "5f806293",
   "metadata": {
    "execution": {
     "iopub.execute_input": "2025-04-05T17:23:30.219231Z",
     "iopub.status.busy": "2025-04-05T17:23:30.218818Z",
     "iopub.status.idle": "2025-04-05T17:23:30.262767Z",
     "shell.execute_reply": "2025-04-05T17:23:30.261490Z"
    },
    "papermill": {
     "duration": 0.052833,
     "end_time": "2025-04-05T17:23:30.264979",
     "exception": false,
     "start_time": "2025-04-05T17:23:30.212146",
     "status": "completed"
    },
    "tags": []
   },
   "outputs": [],
   "source": [
    "test_data = pd.read_csv('/kaggle/input/multiclassificationtask/test.csv')"
   ]
  },
  {
   "cell_type": "code",
   "execution_count": 12,
   "id": "d0f5764a",
   "metadata": {
    "execution": {
     "iopub.execute_input": "2025-04-05T17:23:30.277774Z",
     "iopub.status.busy": "2025-04-05T17:23:30.277380Z",
     "iopub.status.idle": "2025-04-05T17:23:30.325906Z",
     "shell.execute_reply": "2025-04-05T17:23:30.324650Z"
    },
    "papermill": {
     "duration": 0.057094,
     "end_time": "2025-04-05T17:23:30.327980",
     "exception": false,
     "start_time": "2025-04-05T17:23:30.270886",
     "status": "completed"
    },
    "tags": []
   },
   "outputs": [
    {
     "name": "stdout",
     "output_type": "stream",
     "text": [
      "Test Data Info:\n",
      "<class 'pandas.core.frame.DataFrame'>\n",
      "RangeIndex: 10000 entries, 0 to 9999\n",
      "Data columns (total 19 columns):\n",
      " #   Column         Non-Null Count  Dtype  \n",
      "---  ------         --------------  -----  \n",
      " 0   id             10000 non-null  int64  \n",
      " 1   N_Days         10000 non-null  float64\n",
      " 2   Drug           5602 non-null   object \n",
      " 3   Age            10000 non-null  float64\n",
      " 4   Sex            10000 non-null  object \n",
      " 5   Ascites        5609 non-null   object \n",
      " 6   Hepatomegaly   5598 non-null   object \n",
      " 7   Spiders        5596 non-null   object \n",
      " 8   Edema          10000 non-null  object \n",
      " 9   Bilirubin      10000 non-null  float64\n",
      " 10  Cholesterol    4353 non-null   float64\n",
      " 11  Albumin        10000 non-null  float64\n",
      " 12  Copper         5531 non-null   float64\n",
      " 13  Alk_Phos       5597 non-null   float64\n",
      " 14  SGOT           5594 non-null   float64\n",
      " 15  Tryglicerides  4320 non-null   float64\n",
      " 16  Platelets      9618 non-null   float64\n",
      " 17  Prothrombin    9991 non-null   float64\n",
      " 18  Stage          10000 non-null  float64\n",
      "dtypes: float64(12), int64(1), object(6)\n",
      "memory usage: 1.4+ MB\n",
      "None\n",
      "\n",
      "Test Data Description:\n",
      "                id        N_Days            Age    Bilirubin  Cholesterol  \\\n",
      "count  10000.00000  10000.000000   10000.000000  10000.00000  4353.000000   \n",
      "mean   19999.50000   1977.439900   19353.051800      1.86528   329.842178   \n",
      "std     2886.89568   1393.103024    3990.715171      2.84555   182.527403   \n",
      "min    15000.00000     41.000000     400.000000      0.30000   120.000000   \n",
      "25%    17499.75000   1092.750000   16736.000000      0.60000   242.000000   \n",
      "50%    19999.50000   1790.000000   19698.000000      0.90000   281.000000   \n",
      "75%    22499.25000   2635.000000   22369.000000      1.80000   364.000000   \n",
      "max    24999.00000  32769.000000  189912.000000     37.40000  1775.000000   \n",
      "\n",
      "            Albumin       Copper      Alk_Phos          SGOT  Tryglicerides  \\\n",
      "count  10000.000000  5531.000000   5597.000000   5594.000000    4320.000000   \n",
      "mean       3.519308    74.712282   1634.699929    109.341528     110.197685   \n",
      "std        0.377954    72.510978   1823.811094    253.646313      49.605494   \n",
      "min        1.200000     4.000000      8.100000     12.350000      33.000000   \n",
      "25%        3.290000    31.000000    705.000000     70.000000      80.000000   \n",
      "50%        3.580000    52.000000   1062.000000     97.650000      99.000000   \n",
      "75%        3.770000    89.000000   1644.000000    130.200000     133.000000   \n",
      "max        4.640000   588.000000  18393.000000  18628.000000     598.000000   \n",
      "\n",
      "         Platelets  Prothrombin        Stage  \n",
      "count  9618.000000  9991.000000  10000.00000  \n",
      "mean    255.207881    10.633710      3.01940  \n",
      "std     102.649896     0.737652      0.88176  \n",
      "min       0.500000     9.000000      1.00000  \n",
      "25%     183.000000    10.100000      2.00000  \n",
      "50%     251.000000    10.600000      3.00000  \n",
      "75%     312.000000    11.000000      4.00000  \n",
      "max    4190.000000    18.000000      4.00000  \n"
     ]
    }
   ],
   "source": [
    "print(\"Test Data Info:\")\n",
    "print(test_data.info())  \n",
    "\n",
    "print(\"\\nTest Data Description:\")\n",
    "print(test_data.describe())  "
   ]
  },
  {
   "cell_type": "code",
   "execution_count": 13,
   "id": "f369ff7d",
   "metadata": {
    "execution": {
     "iopub.execute_input": "2025-04-05T17:23:30.341632Z",
     "iopub.status.busy": "2025-04-05T17:23:30.341205Z",
     "iopub.status.idle": "2025-04-05T17:23:30.352912Z",
     "shell.execute_reply": "2025-04-05T17:23:30.351539Z"
    },
    "papermill": {
     "duration": 0.020573,
     "end_time": "2025-04-05T17:23:30.354758",
     "exception": false,
     "start_time": "2025-04-05T17:23:30.334185",
     "status": "completed"
    },
    "tags": []
   },
   "outputs": [
    {
     "name": "stdout",
     "output_type": "stream",
     "text": [
      "id                0.00\n",
      "N_Days            0.00\n",
      "Drug             43.98\n",
      "Age               0.00\n",
      "Sex               0.00\n",
      "Ascites          43.91\n",
      "Hepatomegaly     44.02\n",
      "Spiders          44.04\n",
      "Edema             0.00\n",
      "Bilirubin         0.00\n",
      "Cholesterol      56.47\n",
      "Albumin           0.00\n",
      "Copper           44.69\n",
      "Alk_Phos         44.03\n",
      "SGOT             44.06\n",
      "Tryglicerides    56.80\n",
      "Platelets         3.82\n",
      "Prothrombin       0.09\n",
      "Stage             0.00\n",
      "dtype: float64\n"
     ]
    }
   ],
   "source": [
    "null_percentage1 = (test_data.isnull().sum() / len(test_data)) * 100\n",
    "\n",
    "print(null_percentage1)"
   ]
  },
  {
   "cell_type": "code",
   "execution_count": 14,
   "id": "29ca61f3",
   "metadata": {
    "execution": {
     "iopub.execute_input": "2025-04-05T17:23:30.367653Z",
     "iopub.status.busy": "2025-04-05T17:23:30.367300Z",
     "iopub.status.idle": "2025-04-05T17:23:30.388936Z",
     "shell.execute_reply": "2025-04-05T17:23:30.387401Z"
    },
    "papermill": {
     "duration": 0.029842,
     "end_time": "2025-04-05T17:23:30.390796",
     "exception": false,
     "start_time": "2025-04-05T17:23:30.360954",
     "status": "completed"
    },
    "tags": []
   },
   "outputs": [
    {
     "name": "stdout",
     "output_type": "stream",
     "text": [
      "id             0\n",
      "N_Days         0\n",
      "Age            0\n",
      "Sex            0\n",
      "Edema          0\n",
      "Bilirubin      0\n",
      "Albumin        0\n",
      "Platelets      0\n",
      "Prothrombin    0\n",
      "Stage          0\n",
      "dtype: int64\n"
     ]
    }
   ],
   "source": [
    "test_data = test_data.drop(columns=['Drug', 'Cholesterol', 'Tryglicerides', 'Ascites' , 'Hepatomegaly' , 'Spiders' , 'Copper' , 'Alk_Phos' , 'SGOT'])\n",
    "\n",
    "numerical_cols = test_data.select_dtypes(include=['float64']).columns\n",
    "test_data[numerical_cols] = test_data[numerical_cols].fillna(test_data[numerical_cols].median())\n",
    "\n",
    "categorical_cols = test_data.select_dtypes(include=['object']).columns\n",
    "for col in categorical_cols:\n",
    "    test_data[col] = test_data[col].fillna(test_data[col].mode()[0])\n",
    "    \n",
    "print(test_data.isnull().sum())"
   ]
  },
  {
   "cell_type": "code",
   "execution_count": 15,
   "id": "b95ddc84",
   "metadata": {
    "execution": {
     "iopub.execute_input": "2025-04-05T17:23:30.404320Z",
     "iopub.status.busy": "2025-04-05T17:23:30.403875Z",
     "iopub.status.idle": "2025-04-05T17:23:30.420272Z",
     "shell.execute_reply": "2025-04-05T17:23:30.419042Z"
    },
    "papermill": {
     "duration": 0.025774,
     "end_time": "2025-04-05T17:23:30.422477",
     "exception": false,
     "start_time": "2025-04-05T17:23:30.396703",
     "status": "completed"
    },
    "tags": []
   },
   "outputs": [],
   "source": [
    "test_data = pd.get_dummies(test_data, columns=['Sex', 'Edema'], drop_first=False)\n",
    "\n",
    "test_data[numerical_columns] = scaler.transform(test_data[numerical_columns])\n",
    "\n",
    "X_test = test_data.drop(columns=['id'])"
   ]
  },
  {
   "cell_type": "code",
   "execution_count": 16,
   "id": "e5762225",
   "metadata": {
    "execution": {
     "iopub.execute_input": "2025-04-05T17:23:30.436013Z",
     "iopub.status.busy": "2025-04-05T17:23:30.435592Z",
     "iopub.status.idle": "2025-04-05T17:23:30.554817Z",
     "shell.execute_reply": "2025-04-05T17:23:30.553580Z"
    },
    "papermill": {
     "duration": 0.128305,
     "end_time": "2025-04-05T17:23:30.556971",
     "exception": false,
     "start_time": "2025-04-05T17:23:30.428666",
     "status": "completed"
    },
    "tags": []
   },
   "outputs": [],
   "source": [
    "y_test_prob = model.predict_proba(X_test)\n",
    "\n",
    "submission = pd.DataFrame(y_test_prob, columns=['Status_C', 'Status_CL', 'Status_D'])\n",
    "\n",
    "submission['id'] = test_data['id']\n",
    "\n",
    "submission = submission[['id', 'Status_C', 'Status_CL', 'Status_D']]\n",
    "\n",
    "submission.to_csv('submission.csv', index=False)\n"
   ]
  }
 ],
 "metadata": {
  "kaggle": {
   "accelerator": "none",
   "dataSources": [
    {
     "databundleVersionId": 9248778,
     "sourceId": 83459,
     "sourceType": "competition"
    }
   ],
   "dockerImageVersionId": 30918,
   "isGpuEnabled": false,
   "isInternetEnabled": true,
   "language": "python",
   "sourceType": "notebook"
  },
  "kernelspec": {
   "display_name": "Python 3",
   "language": "python",
   "name": "python3"
  },
  "language_info": {
   "codemirror_mode": {
    "name": "ipython",
    "version": 3
   },
   "file_extension": ".py",
   "mimetype": "text/x-python",
   "name": "python",
   "nbconvert_exporter": "python",
   "pygments_lexer": "ipython3",
   "version": "3.10.12"
  },
  "papermill": {
   "default_parameters": {},
   "duration": 17.810219,
   "end_time": "2025-04-05T17:23:31.585382",
   "environment_variables": {},
   "exception": null,
   "input_path": "__notebook__.ipynb",
   "output_path": "__notebook__.ipynb",
   "parameters": {},
   "start_time": "2025-04-05T17:23:13.775163",
   "version": "2.6.0"
  }
 },
 "nbformat": 4,
 "nbformat_minor": 5
}
