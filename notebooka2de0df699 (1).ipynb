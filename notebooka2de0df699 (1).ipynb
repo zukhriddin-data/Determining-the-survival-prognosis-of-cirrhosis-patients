{
 "cells": [
  {
   "cell_type": "code",
   "execution_count": 1,
   "id": "50f73ce1",
   "metadata": {
    "_cell_guid": "b1076dfc-b9ad-4769-8c92-a6c4dae69d19",
    "_uuid": "8f2839f25d086af736a60e9eeb907d3b93b6e0e5",
    "execution": {
     "iopub.execute_input": "2025-04-05T12:41:36.504196Z",
     "iopub.status.busy": "2025-04-05T12:41:36.503805Z",
     "iopub.status.idle": "2025-04-05T12:41:43.990339Z",
     "shell.execute_reply": "2025-04-05T12:41:43.989129Z"
    },
    "papermill": {
     "duration": 7.495028,
     "end_time": "2025-04-05T12:41:43.992376",
     "exception": false,
     "start_time": "2025-04-05T12:41:36.497348",
     "status": "completed"
    },
    "tags": []
   },
   "outputs": [
    {
     "name": "stdout",
     "output_type": "stream",
     "text": [
      "/kaggle/input/multiclassificationtask/sample_submission.csv\n",
      "/kaggle/input/multiclassificationtask/train.csv\n",
      "/kaggle/input/multiclassificationtask/test.csv\n"
     ]
    }
   ],
   "source": [
    "# This Python 3 environment comes with many helpful analytics libraries installed\n",
    "# It is defined by the kaggle/python Docker image: https://github.com/kaggle/docker-python\n",
    "# For example, here's several helpful packages to load\n",
    "\n",
    "import numpy as np # linear algebra\n",
    "import pandas as pd # data processing, CSV file I/O (e.g. pd.read_csv)\n",
    "import seaborn as sns\n",
    "import matplotlib.pyplot as plt\n",
    "from sklearn.preprocessing import StandardScaler, LabelEncoder\n",
    "import lightgbm as lgb\n",
    "from sklearn.model_selection import train_test_split\n",
    "from sklearn.metrics import log_loss\n",
    "from sklearn.preprocessing import LabelEncoder\n",
    "from sklearn.model_selection import train_test_split\n",
    "from sklearn.ensemble import GradientBoostingClassifier\n",
    "import xgboost as xgb\n",
    "from sklearn.metrics import log_loss\n",
    "import lightgbm as lgb\n",
    "from sklearn.metrics import log_loss\n",
    "\n",
    "\n",
    "\n",
    "\n",
    "# Input data files are available in the read-only \"../input/\" directory\n",
    "# For example, running this (by clicking run or pressing Shift+Enter) will list all files under the input directory\n",
    "\n",
    "import os\n",
    "for dirname, _, filenames in os.walk('/kaggle/input'):\n",
    "    for filename in filenames:\n",
    "        print(os.path.join(dirname, filename))\n",
    "\n",
    "# You can write up to 20GB to the current directory (/kaggle/working/) that gets preserved as output when you create a version using \"Save & Run All\" \n",
    "# You can also write temporary files to /kaggle/temp/, but they won't be saved outside of the current session"
   ]
  },
  {
   "cell_type": "markdown",
   "id": "53cca781",
   "metadata": {
    "papermill": {
     "duration": 0.004389,
     "end_time": "2025-04-05T12:41:44.001868",
     "exception": false,
     "start_time": "2025-04-05T12:41:43.997479",
     "status": "completed"
    },
    "tags": []
   },
   "source": [
    "**Train faylidagi ma'lumotlarni yuklab olamiz:**"
   ]
  },
  {
   "cell_type": "code",
   "execution_count": 2,
   "id": "98058994",
   "metadata": {
    "execution": {
     "iopub.execute_input": "2025-04-05T12:41:44.012695Z",
     "iopub.status.busy": "2025-04-05T12:41:44.011909Z",
     "iopub.status.idle": "2025-04-05T12:41:44.201755Z",
     "shell.execute_reply": "2025-04-05T12:41:44.200447Z"
    },
    "papermill": {
     "duration": 0.197053,
     "end_time": "2025-04-05T12:41:44.203505",
     "exception": false,
     "start_time": "2025-04-05T12:41:44.006452",
     "status": "completed"
    },
    "tags": []
   },
   "outputs": [
    {
     "name": "stdout",
     "output_type": "stream",
     "text": [
      "   id  N_Days             Drug      Age Sex Ascites Hepatomegaly Spiders  \\\n",
      "0   0  2178.0  D-penicillamine  16374.0   F       N            N       N   \n",
      "1   1  2644.0  D-penicillamine  17774.0   F       N            N       N   \n",
      "2   2  3069.0          Placebo  17844.0   F       N            N       N   \n",
      "3   3  2216.0          Placebo  19221.0   F       N            Y       Y   \n",
      "4   4  2256.0          Placebo  21600.0   F       N            N       N   \n",
      "\n",
      "  Edema  Bilirubin  Cholesterol  Albumin  Copper  Alk_Phos    SGOT  \\\n",
      "0     N        0.5        263.0     3.20    43.0    1110.0  106.95   \n",
      "1     N        0.8        280.0     3.60    22.0     678.0   62.00   \n",
      "2     N        1.1        408.0     4.40    54.0    2108.0  142.60   \n",
      "3     N        0.8        252.0     3.70    36.0     843.0   55.80   \n",
      "4     N        4.7        348.0     3.06   464.0     961.0  120.90   \n",
      "\n",
      "   Tryglicerides  Platelets  Prothrombin  Stage Status  \n",
      "0           67.0      430.0          9.6    3.0      C  \n",
      "1           80.0      427.0         13.0    3.0      C  \n",
      "2          137.0      203.0         10.6    3.0      C  \n",
      "3           56.0      336.0          9.6    4.0      C  \n",
      "4          146.0      298.0         11.0    2.0      D  \n",
      "Train Data Info:\n",
      "<class 'pandas.core.frame.DataFrame'>\n",
      "RangeIndex: 15000 entries, 0 to 14999\n",
      "Data columns (total 20 columns):\n",
      " #   Column         Non-Null Count  Dtype  \n",
      "---  ------         --------------  -----  \n",
      " 0   id             15000 non-null  int64  \n",
      " 1   N_Days         15000 non-null  float64\n",
      " 2   Drug           8494 non-null   object \n",
      " 3   Age            15000 non-null  float64\n",
      " 4   Sex            15000 non-null  object \n",
      " 5   Ascites        8502 non-null   object \n",
      " 6   Hepatomegaly   8492 non-null   object \n",
      " 7   Spiders        8491 non-null   object \n",
      " 8   Edema          15000 non-null  object \n",
      " 9   Bilirubin      15000 non-null  float64\n",
      " 10  Cholesterol    6701 non-null   float64\n",
      " 11  Albumin        15000 non-null  float64\n",
      " 12  Copper         8399 non-null   float64\n",
      " 13  Alk_Phos       8488 non-null   float64\n",
      " 14  SGOT           8486 non-null   float64\n",
      " 15  Tryglicerides  6666 non-null   float64\n",
      " 16  Platelets      14436 non-null  float64\n",
      " 17  Prothrombin    14984 non-null  float64\n",
      " 18  Stage          15000 non-null  float64\n",
      " 19  Status         15000 non-null  object \n",
      "dtypes: float64(12), int64(1), object(7)\n",
      "memory usage: 2.3+ MB\n",
      "None\n",
      "\n",
      "Train Data Description:\n",
      "                 id        N_Days            Age     Bilirubin  Cholesterol  \\\n",
      "count  15000.000000  15000.000000   15000.000000  15000.000000  6701.000000   \n",
      "mean    7499.500000   1971.721267   19298.658267      1.845433   329.177302   \n",
      "std     4330.271354   1333.733576    3797.580260      2.674859   180.320802   \n",
      "min        0.000000      3.000000     400.000000      0.200000   120.000000   \n",
      "25%     3749.750000   1095.000000   16658.000000      0.600000   242.000000   \n",
      "50%     7499.500000   1786.000000   19544.000000      0.900000   280.000000   \n",
      "75%    11249.250000   2635.000000   22347.000000      1.800000   364.000000   \n",
      "max    14999.000000  38320.000000  129398.000000     28.000000  2078.000000   \n",
      "\n",
      "            Albumin       Copper      Alk_Phos         SGOT  Tryglicerides  \\\n",
      "count  15000.000000  8399.000000   8488.000000  8486.000000    6666.000000   \n",
      "mean       3.526103    75.647339   1618.598233   106.483631     111.387886   \n",
      "std        0.372268    74.830472   1767.240078    57.206017      55.056133   \n",
      "min        0.500000     2.000000      3.400000     0.900000      19.000000   \n",
      "25%        3.290000    31.000000    720.000000    71.000000      80.000000   \n",
      "50%        3.580000    52.000000   1072.000000    97.650000      99.000000   \n",
      "75%        3.770000    89.000000   1664.000000   130.200000     133.000000   \n",
      "max        4.640000   662.000000  13862.400000  2653.000000    1669.000000   \n",
      "\n",
      "          Platelets   Prothrombin         Stage  \n",
      "count  14436.000000  14984.000000  15000.000000  \n",
      "mean     252.917983     10.626111      3.024800  \n",
      "std       94.049175      0.731416      0.871303  \n",
      "min       32.000000      9.000000      1.000000  \n",
      "25%      181.000000     10.100000      2.000000  \n",
      "50%      248.000000     10.600000      3.000000  \n",
      "75%      311.000000     11.000000      4.000000  \n",
      "max     1024.000000     18.000000      4.000000  \n"
     ]
    }
   ],
   "source": [
    "train_data = pd.read_csv('/kaggle/input/multiclassificationtask/train.csv')  \n",
    "print(train_data.head())  \n",
    "\n",
    "print(\"Train Data Info:\")\n",
    "print(train_data.info())  \n",
    "\n",
    "print(\"\\nTrain Data Description:\")\n",
    "print(train_data.describe())  \n"
   ]
  },
  {
   "cell_type": "markdown",
   "id": "b93dd255",
   "metadata": {
    "papermill": {
     "duration": 0.004548,
     "end_time": "2025-04-05T12:41:44.213399",
     "exception": false,
     "start_time": "2025-04-05T12:41:44.208851",
     "status": "completed"
    },
    "tags": []
   },
   "source": [
    "**Ma'lumotlar ustida ishlaymiz:**"
   ]
  },
  {
   "cell_type": "code",
   "execution_count": 3,
   "id": "9fb8d237",
   "metadata": {
    "execution": {
     "iopub.execute_input": "2025-04-05T12:41:44.224944Z",
     "iopub.status.busy": "2025-04-05T12:41:44.224564Z",
     "iopub.status.idle": "2025-04-05T12:41:44.238609Z",
     "shell.execute_reply": "2025-04-05T12:41:44.237200Z"
    },
    "papermill": {
     "duration": 0.022414,
     "end_time": "2025-04-05T12:41:44.240693",
     "exception": false,
     "start_time": "2025-04-05T12:41:44.218279",
     "status": "completed"
    },
    "tags": []
   },
   "outputs": [
    {
     "name": "stdout",
     "output_type": "stream",
     "text": [
      "id                0.000000\n",
      "N_Days            0.000000\n",
      "Drug             43.373333\n",
      "Age               0.000000\n",
      "Sex               0.000000\n",
      "Ascites          43.320000\n",
      "Hepatomegaly     43.386667\n",
      "Spiders          43.393333\n",
      "Edema             0.000000\n",
      "Bilirubin         0.000000\n",
      "Cholesterol      55.326667\n",
      "Albumin           0.000000\n",
      "Copper           44.006667\n",
      "Alk_Phos         43.413333\n",
      "SGOT             43.426667\n",
      "Tryglicerides    55.560000\n",
      "Platelets         3.760000\n",
      "Prothrombin       0.106667\n",
      "Stage             0.000000\n",
      "Status            0.000000\n",
      "dtype: float64\n"
     ]
    }
   ],
   "source": [
    "null_percentage = (train_data.isnull().sum() / len(train_data)) * 100\n",
    "\n",
    "print(null_percentage)"
   ]
  },
  {
   "cell_type": "code",
   "execution_count": 4,
   "id": "0749f677",
   "metadata": {
    "execution": {
     "iopub.execute_input": "2025-04-05T12:41:44.253068Z",
     "iopub.status.busy": "2025-04-05T12:41:44.252696Z",
     "iopub.status.idle": "2025-04-05T12:41:44.283636Z",
     "shell.execute_reply": "2025-04-05T12:41:44.282529Z"
    },
    "papermill": {
     "duration": 0.039054,
     "end_time": "2025-04-05T12:41:44.285473",
     "exception": false,
     "start_time": "2025-04-05T12:41:44.246419",
     "status": "completed"
    },
    "tags": []
   },
   "outputs": [
    {
     "name": "stdout",
     "output_type": "stream",
     "text": [
      "id             0\n",
      "N_Days         0\n",
      "Age            0\n",
      "Sex            0\n",
      "Edema          0\n",
      "Bilirubin      0\n",
      "Albumin        0\n",
      "Platelets      0\n",
      "Prothrombin    0\n",
      "Stage          0\n",
      "Status         0\n",
      "dtype: int64\n"
     ]
    }
   ],
   "source": [
    "train_data = train_data.drop(columns=['Drug', 'Cholesterol', 'Tryglicerides', 'Ascites' , 'Hepatomegaly' , 'Spiders' , 'Copper' , 'Alk_Phos' , 'SGOT'])\n",
    "\n",
    "numerical_cols = train_data.select_dtypes(include=['float64']).columns\n",
    "train_data[numerical_cols] = train_data[numerical_cols].fillna(train_data[numerical_cols].median())\n",
    "\n",
    "categorical_cols = train_data.select_dtypes(include=['object']).columns\n",
    "for col in categorical_cols:\n",
    "    train_data[col] = train_data[col].fillna(train_data[col].mode()[0])\n",
    "    \n",
    "print(train_data.isnull().sum())\n"
   ]
  },
  {
   "cell_type": "markdown",
   "id": "c674f56a",
   "metadata": {
    "papermill": {
     "duration": 0.004841,
     "end_time": "2025-04-05T12:41:44.295409",
     "exception": false,
     "start_time": "2025-04-05T12:41:44.290568",
     "status": "completed"
    },
    "tags": []
   },
   "source": [
    "**Null qiymatlar bilan ishlash**\n",
    "\n",
    "Dastlab, train to'plamidagi barcha ustunlarda null qiymatlarni tekshirib chiqdim. Bu orqali, ba'zi ustunlar, masalan, Drug, Cholesterol, va Tryglicerides kabi ustunlarda juda ko'p null qiymatlar borligini ko'rdim. Bu ustunlar model uchun juda ko'p yo'qotishlar keltirib chiqarishi mumkin, shuning uchun ularni olib tashlashga qaror qildim.\n",
    "\n",
    "Keyin, numerik ustunlar bo'yicha null qiymatlarni to'ldirdim. Buning uchun har bir ustun uchun median qiymatini hisoblab chiqib, bu qiymat bilan null qiymatlarni to'ldirdim. \n",
    "\n",
    "Kategorik ustunlar uchun esa, null qiymatlarni eng ko'p uchraydigan qiymat, ya'ni mod bilan to'ldirdim. Bu usulda, har bir ustun bo'yicha eng ko'p uchragan qiymatni topdim va null qiymatlarni shu qiymat bilan almashtirdim."
   ]
  },
  {
   "cell_type": "code",
   "execution_count": 5,
   "id": "6eda6bdd",
   "metadata": {
    "execution": {
     "iopub.execute_input": "2025-04-05T12:41:44.306777Z",
     "iopub.status.busy": "2025-04-05T12:41:44.306405Z",
     "iopub.status.idle": "2025-04-05T12:41:44.319070Z",
     "shell.execute_reply": "2025-04-05T12:41:44.317883Z"
    },
    "papermill": {
     "duration": 0.020399,
     "end_time": "2025-04-05T12:41:44.320841",
     "exception": false,
     "start_time": "2025-04-05T12:41:44.300442",
     "status": "completed"
    },
    "tags": []
   },
   "outputs": [
    {
     "name": "stdout",
     "output_type": "stream",
     "text": [
      "Edema\n",
      "N    13845\n",
      "S      792\n",
      "Y      363\n",
      "Name: count, dtype: int64\n",
      "Status\n",
      "C     10053\n",
      "D      4565\n",
      "CL      381\n",
      "Y         1\n",
      "Name: count, dtype: int64\n",
      "Sex\n",
      "F    14392\n",
      "M      608\n",
      "Name: count, dtype: int64\n"
     ]
    }
   ],
   "source": [
    "print(train_data['Edema'].value_counts())\n",
    "print(train_data['Status'].value_counts())\n",
    "print(train_data['Sex'].value_counts())"
   ]
  },
  {
   "cell_type": "markdown",
   "id": "857a5b60",
   "metadata": {
    "papermill": {
     "duration": 0.004702,
     "end_time": "2025-04-05T12:41:44.330723",
     "exception": false,
     "start_time": "2025-04-05T12:41:44.326021",
     "status": "completed"
    },
    "tags": []
   },
   "source": [
    "**ML ga tayyorgarlik:**"
   ]
  },
  {
   "cell_type": "code",
   "execution_count": 6,
   "id": "b913eb90",
   "metadata": {
    "execution": {
     "iopub.execute_input": "2025-04-05T12:41:44.342643Z",
     "iopub.status.busy": "2025-04-05T12:41:44.342123Z",
     "iopub.status.idle": "2025-04-05T12:41:44.388178Z",
     "shell.execute_reply": "2025-04-05T12:41:44.386959Z"
    },
    "papermill": {
     "duration": 0.05418,
     "end_time": "2025-04-05T12:41:44.390123",
     "exception": false,
     "start_time": "2025-04-05T12:41:44.335943",
     "status": "completed"
    },
    "tags": []
   },
   "outputs": [
    {
     "name": "stdout",
     "output_type": "stream",
     "text": [
      "   id    N_Days       Age  Bilirubin   Albumin  Platelets  Prothrombin  \\\n",
      "0   0  0.154668 -0.770163  -0.503009 -0.876018   1.921267    -1.403667   \n",
      "1   1  0.504075 -0.401495  -0.390850  0.198512   1.888752     3.247483   \n",
      "2   2  0.822740 -0.383061  -0.278691  2.347573  -0.539020    -0.035682   \n",
      "3   3  0.183160 -0.020450  -0.390850  0.467145   0.902469    -1.403667   \n",
      "4   4  0.213152  0.606022   1.067220 -1.252104   0.490615     0.511513   \n",
      "\n",
      "      Stage Status  Sex_F  Sex_M  Edema_N  Edema_S  Edema_Y  \n",
      "0 -0.028464      C   True  False     True    False    False  \n",
      "1 -0.028464      C   True  False     True    False    False  \n",
      "2 -0.028464      C   True  False     True    False    False  \n",
      "3  1.119281      C   True  False     True    False    False  \n",
      "4 -1.176209      D   True  False     True    False    False  \n"
     ]
    }
   ],
   "source": [
    "train_data = pd.get_dummies(train_data, columns=['Sex', 'Edema'], drop_first=False)\n",
    "\n",
    "scaler = StandardScaler()\n",
    "\n",
    "numerical_columns = ['N_Days', 'Age', 'Bilirubin', 'Albumin', 'Platelets', 'Prothrombin', 'Stage']\n",
    "\n",
    "train_data[numerical_columns] = scaler.fit_transform(train_data[numerical_columns])\n",
    "\n",
    "print(train_data.head())"
   ]
  },
  {
   "cell_type": "code",
   "execution_count": 7,
   "id": "6bb7ba43",
   "metadata": {
    "execution": {
     "iopub.execute_input": "2025-04-05T12:41:44.402454Z",
     "iopub.status.busy": "2025-04-05T12:41:44.402049Z",
     "iopub.status.idle": "2025-04-05T12:41:44.609162Z",
     "shell.execute_reply": "2025-04-05T12:41:44.607768Z"
    },
    "papermill": {
     "duration": 0.214605,
     "end_time": "2025-04-05T12:41:44.610766",
     "exception": true,
     "start_time": "2025-04-05T12:41:44.396161",
     "status": "failed"
    },
    "tags": []
   },
   "outputs": [
    {
     "ename": "NameError",
     "evalue": "name 'le' is not defined",
     "output_type": "error",
     "traceback": [
      "\u001b[0;31m---------------------------------------------------------------------------\u001b[0m",
      "\u001b[0;31mNameError\u001b[0m                                 Traceback (most recent call last)",
      "\u001b[0;32m<ipython-input-7-538ef9909d34>\u001b[0m in \u001b[0;36m<cell line: 2>\u001b[0;34m()\u001b[0m\n\u001b[1;32m      1\u001b[0m \u001b[0mX\u001b[0m \u001b[0;34m=\u001b[0m \u001b[0mtrain_data\u001b[0m\u001b[0;34m.\u001b[0m\u001b[0mdrop\u001b[0m\u001b[0;34m(\u001b[0m\u001b[0mcolumns\u001b[0m\u001b[0;34m=\u001b[0m\u001b[0;34m[\u001b[0m\u001b[0;34m'Status'\u001b[0m\u001b[0;34m,\u001b[0m \u001b[0;34m'id'\u001b[0m\u001b[0;34m]\u001b[0m\u001b[0;34m)\u001b[0m  \u001b[0;31m# Status va idni ajratish\u001b[0m\u001b[0;34m\u001b[0m\u001b[0;34m\u001b[0m\u001b[0m\n\u001b[0;32m----> 2\u001b[0;31m \u001b[0my\u001b[0m \u001b[0;34m=\u001b[0m \u001b[0mle\u001b[0m\u001b[0;34m.\u001b[0m\u001b[0mfit_transform\u001b[0m\u001b[0;34m(\u001b[0m\u001b[0mtrain_data\u001b[0m\u001b[0;34m[\u001b[0m\u001b[0;34m'Status'\u001b[0m\u001b[0;34m]\u001b[0m\u001b[0;34m)\u001b[0m  \u001b[0;31m# Statusni LabelEncoder orqali raqamlashtirish\u001b[0m\u001b[0;34m\u001b[0m\u001b[0;34m\u001b[0m\u001b[0m\n\u001b[0m\u001b[1;32m      3\u001b[0m \u001b[0;34m\u001b[0m\u001b[0m\n\u001b[1;32m      4\u001b[0m \u001b[0mX_train\u001b[0m\u001b[0;34m,\u001b[0m \u001b[0mX_val\u001b[0m\u001b[0;34m,\u001b[0m \u001b[0my_train\u001b[0m\u001b[0;34m,\u001b[0m \u001b[0my_val\u001b[0m \u001b[0;34m=\u001b[0m \u001b[0mtrain_test_split\u001b[0m\u001b[0;34m(\u001b[0m\u001b[0mX\u001b[0m\u001b[0;34m,\u001b[0m \u001b[0my\u001b[0m\u001b[0;34m,\u001b[0m \u001b[0mtest_size\u001b[0m\u001b[0;34m=\u001b[0m\u001b[0;36m0.2\u001b[0m\u001b[0;34m,\u001b[0m \u001b[0mrandom_state\u001b[0m\u001b[0;34m=\u001b[0m\u001b[0;36m42\u001b[0m\u001b[0;34m)\u001b[0m\u001b[0;34m\u001b[0m\u001b[0;34m\u001b[0m\u001b[0m\n\u001b[1;32m      5\u001b[0m \u001b[0;34m\u001b[0m\u001b[0m\n",
      "\u001b[0;31mNameError\u001b[0m: name 'le' is not defined"
     ]
    }
   ],
   "source": [
    "X = train_data.drop(columns=['Status', 'id'])  # Status va idni ajratish\n",
    "y = le.fit_transform(train_data['Status'])  # Statusni LabelEncoder orqali raqamlashtirish\n",
    "\n",
    "X_train, X_val, y_train, y_val = train_test_split(X, y, test_size=0.2, random_state=42)\n",
    "\n",
    "print(f\"Train size: {X_train.shape[0]} samples\")\n",
    "print(f\"Validation size: {X_val.shape[0]} samples\")\n",
    "\n",
    "print(\"Statuslar va ularning raqamlari:\", dict(zip(le.classes_, range(len(le.classes_)))))"
   ]
  },
  {
   "cell_type": "markdown",
   "id": "61d10174",
   "metadata": {
    "papermill": {
     "duration": null,
     "end_time": null,
     "exception": null,
     "start_time": null,
     "status": "pending"
    },
    "tags": []
   },
   "source": [
    "**ML:**"
   ]
  },
  {
   "cell_type": "code",
   "execution_count": null,
   "id": "a76831f9",
   "metadata": {
    "execution": {
     "iopub.execute_input": "2025-04-05T12:41:13.357876Z",
     "iopub.status.busy": "2025-04-05T12:41:13.357493Z",
     "iopub.status.idle": "2025-04-05T12:41:18.810426Z",
     "shell.execute_reply": "2025-04-05T12:41:18.808837Z",
     "shell.execute_reply.started": "2025-04-05T12:41:13.357845Z"
    },
    "papermill": {
     "duration": null,
     "end_time": null,
     "exception": null,
     "start_time": null,
     "status": "pending"
    },
    "tags": []
   },
   "outputs": [],
   "source": [
    "model = GradientBoostingClassifier(n_estimators=100, random_state=42)\n",
    "model.fit(X_train, y_train)  \n",
    "\n",
    "y_pred_prob = model.predict_proba(X_val)\n",
    "\n",
    "logloss = log_loss(y_val, y_pred_prob, labels=[0, 1, 2])  # 0, 1, 2 sinflari bilan log loss hisoblash\n",
    "\n",
    "print(f\"Log Loss: {logloss}\")\n"
   ]
  },
  {
   "cell_type": "code",
   "execution_count": null,
   "id": "3ee451d4",
   "metadata": {
    "execution": {
     "iopub.execute_input": "2025-04-05T12:41:18.812061Z",
     "iopub.status.busy": "2025-04-05T12:41:18.811756Z",
     "iopub.status.idle": "2025-04-05T12:41:19.331199Z",
     "shell.execute_reply": "2025-04-05T12:41:19.330107Z",
     "shell.execute_reply.started": "2025-04-05T12:41:18.812035Z"
    },
    "papermill": {
     "duration": null,
     "end_time": null,
     "exception": null,
     "start_time": null,
     "status": "pending"
    },
    "tags": []
   },
   "outputs": [],
   "source": [
    "model_xgb = xgb.XGBClassifier(objective='multi:softmax', num_class=3, random_state=42)\n",
    "model_xgb.fit(X_train, y_train)\n",
    "\n",
    "y_pred_prob_xgb = model_xgb.predict_proba(X_val)\n",
    "\n",
    "logloss_xgb = log_loss(y_val, y_pred_prob_xgb, labels=[0, 1, 2])\n",
    "print(f\"Log Loss (XGBoost): {logloss_xgb}\")"
   ]
  },
  {
   "cell_type": "code",
   "execution_count": null,
   "id": "f97a1be0",
   "metadata": {
    "execution": {
     "iopub.execute_input": "2025-04-05T12:41:19.333951Z",
     "iopub.status.busy": "2025-04-05T12:41:19.333269Z",
     "iopub.status.idle": "2025-04-05T12:41:19.889966Z",
     "shell.execute_reply": "2025-04-05T12:41:19.888816Z",
     "shell.execute_reply.started": "2025-04-05T12:41:19.333911Z"
    },
    "papermill": {
     "duration": null,
     "end_time": null,
     "exception": null,
     "start_time": null,
     "status": "pending"
    },
    "tags": []
   },
   "outputs": [],
   "source": [
    "model_lgb = lgb.LGBMClassifier(objective='multiclass', num_class=3, random_state=42)\n",
    "model_lgb.fit(X_train, y_train)\n",
    "\n",
    "y_pred_prob_lgb = model_lgb.predict_proba(X_val)\n",
    "\n",
    "\n",
    "logloss_lgb = log_loss(y_val, y_pred_prob_lgb, labels=[0, 1, 2])\n",
    "print(f\"Log Loss (LightGBM): {logloss_lgb}\")"
   ]
  },
  {
   "cell_type": "markdown",
   "id": "1480a8a1",
   "metadata": {
    "papermill": {
     "duration": null,
     "end_time": null,
     "exception": null,
     "start_time": null,
     "status": "pending"
    },
    "tags": []
   },
   "source": [
    "***Log loss kamroq bo'lganligi uchun GradientBoostingClassifier modelini tanlaymiz va test file dagi ma'lumotlarni shu model orqali bashorat qilamiz:***"
   ]
  },
  {
   "cell_type": "code",
   "execution_count": null,
   "id": "89ed8c4f",
   "metadata": {
    "execution": {
     "iopub.execute_input": "2025-04-05T12:41:19.892117Z",
     "iopub.status.busy": "2025-04-05T12:41:19.891685Z",
     "iopub.status.idle": "2025-04-05T12:41:19.921360Z",
     "shell.execute_reply": "2025-04-05T12:41:19.920218Z",
     "shell.execute_reply.started": "2025-04-05T12:41:19.892070Z"
    },
    "papermill": {
     "duration": null,
     "end_time": null,
     "exception": null,
     "start_time": null,
     "status": "pending"
    },
    "tags": []
   },
   "outputs": [],
   "source": [
    "test_data = pd.read_csv('/kaggle/input/multiclassificationtask/test.csv')"
   ]
  },
  {
   "cell_type": "code",
   "execution_count": null,
   "id": "93bb7e66",
   "metadata": {
    "execution": {
     "iopub.execute_input": "2025-04-05T12:41:19.922852Z",
     "iopub.status.busy": "2025-04-05T12:41:19.922497Z",
     "iopub.status.idle": "2025-04-05T12:41:20.000923Z",
     "shell.execute_reply": "2025-04-05T12:41:19.999400Z",
     "shell.execute_reply.started": "2025-04-05T12:41:19.922811Z"
    },
    "papermill": {
     "duration": null,
     "end_time": null,
     "exception": null,
     "start_time": null,
     "status": "pending"
    },
    "tags": []
   },
   "outputs": [],
   "source": [
    "print(\"Test Data Info:\")\n",
    "print(test_data.info())  \n",
    "\n",
    "print(\"\\nTest Data Description:\")\n",
    "print(test_data.describe())  "
   ]
  },
  {
   "cell_type": "code",
   "execution_count": null,
   "id": "09b84cd5",
   "metadata": {
    "execution": {
     "iopub.execute_input": "2025-04-05T12:41:20.002686Z",
     "iopub.status.busy": "2025-04-05T12:41:20.002230Z",
     "iopub.status.idle": "2025-04-05T12:41:20.015982Z",
     "shell.execute_reply": "2025-04-05T12:41:20.013687Z",
     "shell.execute_reply.started": "2025-04-05T12:41:20.002616Z"
    },
    "papermill": {
     "duration": null,
     "end_time": null,
     "exception": null,
     "start_time": null,
     "status": "pending"
    },
    "tags": []
   },
   "outputs": [],
   "source": [
    "null_percentage1 = (test_data.isnull().sum() / len(test_data)) * 100\n",
    "\n",
    "print(null_percentage1)"
   ]
  },
  {
   "cell_type": "code",
   "execution_count": null,
   "id": "75e3c6df",
   "metadata": {
    "execution": {
     "iopub.execute_input": "2025-04-05T12:41:20.017312Z",
     "iopub.status.busy": "2025-04-05T12:41:20.016928Z",
     "iopub.status.idle": "2025-04-05T12:41:20.056426Z",
     "shell.execute_reply": "2025-04-05T12:41:20.055106Z",
     "shell.execute_reply.started": "2025-04-05T12:41:20.017281Z"
    },
    "papermill": {
     "duration": null,
     "end_time": null,
     "exception": null,
     "start_time": null,
     "status": "pending"
    },
    "tags": []
   },
   "outputs": [],
   "source": [
    "test_data = test_data.drop(columns=['Drug', 'Cholesterol', 'Tryglicerides', 'Ascites' , 'Hepatomegaly' , 'Spiders' , 'Copper' , 'Alk_Phos' , 'SGOT'])\n",
    "\n",
    "numerical_cols = test_data.select_dtypes(include=['float64']).columns\n",
    "test_data[numerical_cols] = test_data[numerical_cols].fillna(test_data[numerical_cols].median())\n",
    "\n",
    "categorical_cols = test_data.select_dtypes(include=['object']).columns\n",
    "for col in categorical_cols:\n",
    "    test_data[col] = test_data[col].fillna(test_data[col].mode()[0])\n",
    "    \n",
    "print(test_data.isnull().sum())"
   ]
  },
  {
   "cell_type": "code",
   "execution_count": null,
   "id": "5561a53a",
   "metadata": {
    "execution": {
     "iopub.execute_input": "2025-04-05T12:41:20.059572Z",
     "iopub.status.busy": "2025-04-05T12:41:20.059216Z",
     "iopub.status.idle": "2025-04-05T12:41:20.078705Z",
     "shell.execute_reply": "2025-04-05T12:41:20.076984Z",
     "shell.execute_reply.started": "2025-04-05T12:41:20.059543Z"
    },
    "papermill": {
     "duration": null,
     "end_time": null,
     "exception": null,
     "start_time": null,
     "status": "pending"
    },
    "tags": []
   },
   "outputs": [],
   "source": [
    "test_data = pd.get_dummies(test_data, columns=['Sex', 'Edema'], drop_first=False)\n",
    "\n",
    "test_data[numerical_columns] = scaler.transform(test_data[numerical_columns])\n",
    "\n",
    "X_test = test_data.drop(columns=['id'])"
   ]
  },
  {
   "cell_type": "code",
   "execution_count": null,
   "id": "b3d84c22",
   "metadata": {
    "execution": {
     "iopub.execute_input": "2025-04-05T12:41:20.080880Z",
     "iopub.status.busy": "2025-04-05T12:41:20.080424Z",
     "iopub.status.idle": "2025-04-05T12:41:20.206908Z",
     "shell.execute_reply": "2025-04-05T12:41:20.205775Z",
     "shell.execute_reply.started": "2025-04-05T12:41:20.080838Z"
    },
    "papermill": {
     "duration": null,
     "end_time": null,
     "exception": null,
     "start_time": null,
     "status": "pending"
    },
    "tags": []
   },
   "outputs": [],
   "source": [
    "y_test_prob = model.predict_proba(X_test)\n",
    "\n",
    "submission = pd.DataFrame(y_test_prob, columns=['Status_C', 'Status_CL', 'Status_D'])\n",
    "\n",
    "submission['id'] = test_data['id']\n",
    "\n",
    "submission = submission[['id', 'Status_C', 'Status_CL', 'Status_D']]\n",
    "\n",
    "submission.to_csv('submission.csv', index=False)\n"
   ]
  }
 ],
 "metadata": {
  "kaggle": {
   "accelerator": "none",
   "dataSources": [
    {
     "databundleVersionId": 9248778,
     "sourceId": 83459,
     "sourceType": "competition"
    }
   ],
   "dockerImageVersionId": 30918,
   "isGpuEnabled": false,
   "isInternetEnabled": true,
   "language": "python",
   "sourceType": "notebook"
  },
  "kernelspec": {
   "display_name": "Python 3",
   "language": "python",
   "name": "python3"
  },
  "language_info": {
   "codemirror_mode": {
    "name": "ipython",
    "version": 3
   },
   "file_extension": ".py",
   "mimetype": "text/x-python",
   "name": "python",
   "nbconvert_exporter": "python",
   "pygments_lexer": "ipython3",
   "version": "3.10.12"
  },
  "papermill": {
   "default_parameters": {},
   "duration": 12.11699,
   "end_time": "2025-04-05T12:41:45.638088",
   "environment_variables": {},
   "exception": true,
   "input_path": "__notebook__.ipynb",
   "output_path": "__notebook__.ipynb",
   "parameters": {},
   "start_time": "2025-04-05T12:41:33.521098",
   "version": "2.6.0"
  }
 },
 "nbformat": 4,
 "nbformat_minor": 5
}
