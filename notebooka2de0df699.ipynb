{
 "cells": [
  {
   "cell_type": "code",
   "execution_count": 1,
   "id": "e3ea1a51",
   "metadata": {
    "_cell_guid": "b1076dfc-b9ad-4769-8c92-a6c4dae69d19",
    "_uuid": "8f2839f25d086af736a60e9eeb907d3b93b6e0e5",
    "execution": {
     "iopub.execute_input": "2025-04-05T12:01:15.818724Z",
     "iopub.status.busy": "2025-04-05T12:01:15.818379Z",
     "iopub.status.idle": "2025-04-05T12:01:22.704763Z",
     "shell.execute_reply": "2025-04-05T12:01:22.703422Z"
    },
    "papermill": {
     "duration": 6.893948,
     "end_time": "2025-04-05T12:01:22.706580",
     "exception": false,
     "start_time": "2025-04-05T12:01:15.812632",
     "status": "completed"
    },
    "tags": []
   },
   "outputs": [
    {
     "name": "stdout",
     "output_type": "stream",
     "text": [
      "/kaggle/input/multiclassificationtask/sample_submission.csv\n",
      "/kaggle/input/multiclassificationtask/train.csv\n",
      "/kaggle/input/multiclassificationtask/test.csv\n"
     ]
    }
   ],
   "source": [
    "# This Python 3 environment comes with many helpful analytics libraries installed\n",
    "# It is defined by the kaggle/python Docker image: https://github.com/kaggle/docker-python\n",
    "# For example, here's several helpful packages to load\n",
    "\n",
    "import numpy as np # linear algebra\n",
    "import pandas as pd # data processing, CSV file I/O (e.g. pd.read_csv)\n",
    "import seaborn as sns\n",
    "import matplotlib.pyplot as plt\n",
    "from sklearn.preprocessing import StandardScaler, LabelEncoder\n",
    "import lightgbm as lgb\n",
    "from sklearn.model_selection import train_test_split\n",
    "from sklearn.metrics import log_loss\n",
    "from sklearn.preprocessing import LabelEncoder\n",
    "from sklearn.model_selection import train_test_split\n",
    "from sklearn.ensemble import GradientBoostingClassifier\n",
    "\n",
    "\n",
    "\n",
    "# Input data files are available in the read-only \"../input/\" directory\n",
    "# For example, running this (by clicking run or pressing Shift+Enter) will list all files under the input directory\n",
    "\n",
    "import os\n",
    "for dirname, _, filenames in os.walk('/kaggle/input'):\n",
    "    for filename in filenames:\n",
    "        print(os.path.join(dirname, filename))\n",
    "\n",
    "# You can write up to 20GB to the current directory (/kaggle/working/) that gets preserved as output when you create a version using \"Save & Run All\" \n",
    "# You can also write temporary files to /kaggle/temp/, but they won't be saved outside of the current session"
   ]
  },
  {
   "cell_type": "code",
   "execution_count": 2,
   "id": "adc7d953",
   "metadata": {
    "execution": {
     "iopub.execute_input": "2025-04-05T12:01:22.716166Z",
     "iopub.status.busy": "2025-04-05T12:01:22.715445Z",
     "iopub.status.idle": "2025-04-05T12:01:22.797138Z",
     "shell.execute_reply": "2025-04-05T12:01:22.795711Z"
    },
    "papermill": {
     "duration": 0.088297,
     "end_time": "2025-04-05T12:01:22.799044",
     "exception": false,
     "start_time": "2025-04-05T12:01:22.710747",
     "status": "completed"
    },
    "tags": []
   },
   "outputs": [
    {
     "name": "stdout",
     "output_type": "stream",
     "text": [
      "   id  N_Days             Drug      Age Sex Ascites Hepatomegaly Spiders  \\\n",
      "0   0  2178.0  D-penicillamine  16374.0   F       N            N       N   \n",
      "1   1  2644.0  D-penicillamine  17774.0   F       N            N       N   \n",
      "2   2  3069.0          Placebo  17844.0   F       N            N       N   \n",
      "3   3  2216.0          Placebo  19221.0   F       N            Y       Y   \n",
      "4   4  2256.0          Placebo  21600.0   F       N            N       N   \n",
      "\n",
      "  Edema  Bilirubin  Cholesterol  Albumin  Copper  Alk_Phos    SGOT  \\\n",
      "0     N        0.5        263.0     3.20    43.0    1110.0  106.95   \n",
      "1     N        0.8        280.0     3.60    22.0     678.0   62.00   \n",
      "2     N        1.1        408.0     4.40    54.0    2108.0  142.60   \n",
      "3     N        0.8        252.0     3.70    36.0     843.0   55.80   \n",
      "4     N        4.7        348.0     3.06   464.0     961.0  120.90   \n",
      "\n",
      "   Tryglicerides  Platelets  Prothrombin  Stage Status  \n",
      "0           67.0      430.0          9.6    3.0      C  \n",
      "1           80.0      427.0         13.0    3.0      C  \n",
      "2          137.0      203.0         10.6    3.0      C  \n",
      "3           56.0      336.0          9.6    4.0      C  \n",
      "4          146.0      298.0         11.0    2.0      D  \n"
     ]
    }
   ],
   "source": [
    "train_data = pd.read_csv('/kaggle/input/multiclassificationtask/train.csv')  \n",
    "\n",
    "print(train_data.head())  \n"
   ]
  },
  {
   "cell_type": "code",
   "execution_count": 3,
   "id": "87c36538",
   "metadata": {
    "execution": {
     "iopub.execute_input": "2025-04-05T12:01:22.808437Z",
     "iopub.status.busy": "2025-04-05T12:01:22.808065Z",
     "iopub.status.idle": "2025-04-05T12:01:22.886349Z",
     "shell.execute_reply": "2025-04-05T12:01:22.884865Z"
    },
    "papermill": {
     "duration": 0.085028,
     "end_time": "2025-04-05T12:01:22.888283",
     "exception": false,
     "start_time": "2025-04-05T12:01:22.803255",
     "status": "completed"
    },
    "tags": []
   },
   "outputs": [
    {
     "name": "stdout",
     "output_type": "stream",
     "text": [
      "Train Data Info:\n",
      "<class 'pandas.core.frame.DataFrame'>\n",
      "RangeIndex: 15000 entries, 0 to 14999\n",
      "Data columns (total 20 columns):\n",
      " #   Column         Non-Null Count  Dtype  \n",
      "---  ------         --------------  -----  \n",
      " 0   id             15000 non-null  int64  \n",
      " 1   N_Days         15000 non-null  float64\n",
      " 2   Drug           8494 non-null   object \n",
      " 3   Age            15000 non-null  float64\n",
      " 4   Sex            15000 non-null  object \n",
      " 5   Ascites        8502 non-null   object \n",
      " 6   Hepatomegaly   8492 non-null   object \n",
      " 7   Spiders        8491 non-null   object \n",
      " 8   Edema          15000 non-null  object \n",
      " 9   Bilirubin      15000 non-null  float64\n",
      " 10  Cholesterol    6701 non-null   float64\n",
      " 11  Albumin        15000 non-null  float64\n",
      " 12  Copper         8399 non-null   float64\n",
      " 13  Alk_Phos       8488 non-null   float64\n",
      " 14  SGOT           8486 non-null   float64\n",
      " 15  Tryglicerides  6666 non-null   float64\n",
      " 16  Platelets      14436 non-null  float64\n",
      " 17  Prothrombin    14984 non-null  float64\n",
      " 18  Stage          15000 non-null  float64\n",
      " 19  Status         15000 non-null  object \n",
      "dtypes: float64(12), int64(1), object(7)\n",
      "memory usage: 2.3+ MB\n",
      "None\n",
      "\n",
      "Train Data Description:\n",
      "                 id        N_Days            Age     Bilirubin  Cholesterol  \\\n",
      "count  15000.000000  15000.000000   15000.000000  15000.000000  6701.000000   \n",
      "mean    7499.500000   1971.721267   19298.658267      1.845433   329.177302   \n",
      "std     4330.271354   1333.733576    3797.580260      2.674859   180.320802   \n",
      "min        0.000000      3.000000     400.000000      0.200000   120.000000   \n",
      "25%     3749.750000   1095.000000   16658.000000      0.600000   242.000000   \n",
      "50%     7499.500000   1786.000000   19544.000000      0.900000   280.000000   \n",
      "75%    11249.250000   2635.000000   22347.000000      1.800000   364.000000   \n",
      "max    14999.000000  38320.000000  129398.000000     28.000000  2078.000000   \n",
      "\n",
      "            Albumin       Copper      Alk_Phos         SGOT  Tryglicerides  \\\n",
      "count  15000.000000  8399.000000   8488.000000  8486.000000    6666.000000   \n",
      "mean       3.526103    75.647339   1618.598233   106.483631     111.387886   \n",
      "std        0.372268    74.830472   1767.240078    57.206017      55.056133   \n",
      "min        0.500000     2.000000      3.400000     0.900000      19.000000   \n",
      "25%        3.290000    31.000000    720.000000    71.000000      80.000000   \n",
      "50%        3.580000    52.000000   1072.000000    97.650000      99.000000   \n",
      "75%        3.770000    89.000000   1664.000000   130.200000     133.000000   \n",
      "max        4.640000   662.000000  13862.400000  2653.000000    1669.000000   \n",
      "\n",
      "          Platelets   Prothrombin         Stage  \n",
      "count  14436.000000  14984.000000  15000.000000  \n",
      "mean     252.917983     10.626111      3.024800  \n",
      "std       94.049175      0.731416      0.871303  \n",
      "min       32.000000      9.000000      1.000000  \n",
      "25%      181.000000     10.100000      2.000000  \n",
      "50%      248.000000     10.600000      3.000000  \n",
      "75%      311.000000     11.000000      4.000000  \n",
      "max     1024.000000     18.000000      4.000000  \n"
     ]
    }
   ],
   "source": [
    "print(\"Train Data Info:\")\n",
    "print(train_data.info())  \n",
    "\n",
    "print(\"\\nTrain Data Description:\")\n",
    "print(train_data.describe())  "
   ]
  },
  {
   "cell_type": "code",
   "execution_count": 4,
   "id": "b80465fb",
   "metadata": {
    "execution": {
     "iopub.execute_input": "2025-04-05T12:01:22.898420Z",
     "iopub.status.busy": "2025-04-05T12:01:22.897870Z",
     "iopub.status.idle": "2025-04-05T12:01:22.913642Z",
     "shell.execute_reply": "2025-04-05T12:01:22.912480Z"
    },
    "papermill": {
     "duration": 0.022481,
     "end_time": "2025-04-05T12:01:22.915206",
     "exception": false,
     "start_time": "2025-04-05T12:01:22.892725",
     "status": "completed"
    },
    "tags": []
   },
   "outputs": [
    {
     "name": "stdout",
     "output_type": "stream",
     "text": [
      "\n",
      "Train Data - Null Values Count:\n",
      "id                  0\n",
      "N_Days              0\n",
      "Drug             6506\n",
      "Age                 0\n",
      "Sex                 0\n",
      "Ascites          6498\n",
      "Hepatomegaly     6508\n",
      "Spiders          6509\n",
      "Edema               0\n",
      "Bilirubin           0\n",
      "Cholesterol      8299\n",
      "Albumin             0\n",
      "Copper           6601\n",
      "Alk_Phos         6512\n",
      "SGOT             6514\n",
      "Tryglicerides    8334\n",
      "Platelets         564\n",
      "Prothrombin        16\n",
      "Stage               0\n",
      "Status              0\n",
      "dtype: int64\n"
     ]
    }
   ],
   "source": [
    "print(\"\\nTrain Data - Null Values Count:\")\n",
    "print(train_data.isnull().sum())  "
   ]
  },
  {
   "cell_type": "code",
   "execution_count": 5,
   "id": "a74b6dc9",
   "metadata": {
    "execution": {
     "iopub.execute_input": "2025-04-05T12:01:22.925202Z",
     "iopub.status.busy": "2025-04-05T12:01:22.924817Z",
     "iopub.status.idle": "2025-04-05T12:01:22.939190Z",
     "shell.execute_reply": "2025-04-05T12:01:22.938092Z"
    },
    "papermill": {
     "duration": 0.021123,
     "end_time": "2025-04-05T12:01:22.940883",
     "exception": false,
     "start_time": "2025-04-05T12:01:22.919760",
     "status": "completed"
    },
    "tags": []
   },
   "outputs": [
    {
     "name": "stdout",
     "output_type": "stream",
     "text": [
      "id                0.000000\n",
      "N_Days            0.000000\n",
      "Drug             43.373333\n",
      "Age               0.000000\n",
      "Sex               0.000000\n",
      "Ascites          43.320000\n",
      "Hepatomegaly     43.386667\n",
      "Spiders          43.393333\n",
      "Edema             0.000000\n",
      "Bilirubin         0.000000\n",
      "Cholesterol      55.326667\n",
      "Albumin           0.000000\n",
      "Copper           44.006667\n",
      "Alk_Phos         43.413333\n",
      "SGOT             43.426667\n",
      "Tryglicerides    55.560000\n",
      "Platelets         3.760000\n",
      "Prothrombin       0.106667\n",
      "Stage             0.000000\n",
      "Status            0.000000\n",
      "dtype: float64\n"
     ]
    }
   ],
   "source": [
    "null_percentage = (train_data.isnull().sum() / len(train_data)) * 100\n",
    "\n",
    "print(null_percentage)"
   ]
  },
  {
   "cell_type": "code",
   "execution_count": 6,
   "id": "0a62843e",
   "metadata": {
    "execution": {
     "iopub.execute_input": "2025-04-05T12:01:22.950655Z",
     "iopub.status.busy": "2025-04-05T12:01:22.950311Z",
     "iopub.status.idle": "2025-04-05T12:01:22.968111Z",
     "shell.execute_reply": "2025-04-05T12:01:22.966695Z"
    },
    "papermill": {
     "duration": 0.024855,
     "end_time": "2025-04-05T12:01:22.970029",
     "exception": false,
     "start_time": "2025-04-05T12:01:22.945174",
     "status": "completed"
    },
    "tags": []
   },
   "outputs": [
    {
     "name": "stdout",
     "output_type": "stream",
     "text": [
      "\n",
      "Train Data - Duplicated Rows:\n",
      "0\n"
     ]
    }
   ],
   "source": [
    "print(\"\\nTrain Data - Duplicated Rows:\")\n",
    "print(train_data.duplicated().sum()) "
   ]
  },
  {
   "cell_type": "code",
   "execution_count": 7,
   "id": "97b44813",
   "metadata": {
    "execution": {
     "iopub.execute_input": "2025-04-05T12:01:22.979988Z",
     "iopub.status.busy": "2025-04-05T12:01:22.979568Z",
     "iopub.status.idle": "2025-04-05T12:01:23.012411Z",
     "shell.execute_reply": "2025-04-05T12:01:23.010775Z"
    },
    "papermill": {
     "duration": 0.039804,
     "end_time": "2025-04-05T12:01:23.014220",
     "exception": false,
     "start_time": "2025-04-05T12:01:22.974416",
     "status": "completed"
    },
    "tags": []
   },
   "outputs": [
    {
     "name": "stdout",
     "output_type": "stream",
     "text": [
      "id             0\n",
      "N_Days         0\n",
      "Age            0\n",
      "Sex            0\n",
      "Edema          0\n",
      "Bilirubin      0\n",
      "Albumin        0\n",
      "Platelets      0\n",
      "Prothrombin    0\n",
      "Stage          0\n",
      "Status         0\n",
      "dtype: int64\n"
     ]
    }
   ],
   "source": [
    "train_data = train_data.drop(columns=['Drug', 'Cholesterol', 'Tryglicerides', 'Ascites' , 'Hepatomegaly' , 'Spiders' , 'Copper' , 'Alk_Phos' , 'SGOT'])\n",
    "\n",
    "numerical_cols = train_data.select_dtypes(include=['float64']).columns\n",
    "train_data[numerical_cols] = train_data[numerical_cols].fillna(train_data[numerical_cols].median())\n",
    "\n",
    "categorical_cols = train_data.select_dtypes(include=['object']).columns\n",
    "for col in categorical_cols:\n",
    "    train_data[col] = train_data[col].fillna(train_data[col].mode()[0])\n",
    "    \n",
    "print(train_data.isnull().sum())\n"
   ]
  },
  {
   "cell_type": "markdown",
   "id": "7624bd05",
   "metadata": {
    "papermill": {
     "duration": 0.004013,
     "end_time": "2025-04-05T12:01:23.022786",
     "exception": false,
     "start_time": "2025-04-05T12:01:23.018773",
     "status": "completed"
    },
    "tags": []
   },
   "source": [
    "**Null qiymatlar bilan ishlash**\n",
    "\n",
    "Dastlab, train to'plamidagi barcha ustunlarda null qiymatlarni tekshirib chiqdim. Bu orqali, ba'zi ustunlar, masalan, Drug, Cholesterol, va Tryglicerides kabi ustunlarda juda ko'p null qiymatlar borligini ko'rdim. Bu ustunlar model uchun juda ko'p yo'qotishlar keltirib chiqarishi mumkin, shuning uchun ularni olib tashlashga qaror qildim.\n",
    "\n",
    "Keyin, numerik ustunlar bo'yicha null qiymatlarni to'ldirdim. Buning uchun har bir ustun uchun median qiymatini hisoblab chiqib, bu qiymat bilan null qiymatlarni to'ldirdim. \n",
    "\n",
    "Kategorik ustunlar uchun esa, null qiymatlarni eng ko'p uchraydigan qiymat, ya'ni mod bilan to'ldirdim. Bu usulda, har bir ustun bo'yicha eng ko'p uchragan qiymatni topdim va null qiymatlarni shu qiymat bilan almashtirdim."
   ]
  },
  {
   "cell_type": "code",
   "execution_count": 8,
   "id": "24f3c3da",
   "metadata": {
    "execution": {
     "iopub.execute_input": "2025-04-05T12:01:23.032438Z",
     "iopub.status.busy": "2025-04-05T12:01:23.032066Z",
     "iopub.status.idle": "2025-04-05T12:01:23.303148Z",
     "shell.execute_reply": "2025-04-05T12:01:23.302003Z"
    },
    "papermill": {
     "duration": 0.279855,
     "end_time": "2025-04-05T12:01:23.306870",
     "exception": false,
     "start_time": "2025-04-05T12:01:23.027015",
     "status": "completed"
    },
    "tags": []
   },
   "outputs": [
    {
     "name": "stdout",
     "output_type": "stream",
     "text": [
      "\n",
      "Train Data - Status Value Counts:\n",
      "Status\n",
      "C     10053\n",
      "D      4565\n",
      "CL      381\n",
      "Y         1\n",
      "Name: count, dtype: int64\n"
     ]
    },
    {
     "data": {
      "image/png": "[encoded data removed]",
      "text/plain": [
       "<Figure size 640x480 with 1 Axes>"
      ]
     },
     "metadata": {},
     "output_type": "display_data"
    }
   ],
   "source": [
    "# Status kategoriyasidagi taqsimotni ko'rish\n",
    "print(\"\\nTrain Data - Status Value Counts:\")\n",
    "print(train_data['Status'].value_counts())  \n",
    "\n",
    "sns.countplot(data=train_data, x='Status')\n",
    "plt.title('Status Value Counts')\n",
    "plt.show()\n"
   ]
  },
  {
   "cell_type": "code",
   "execution_count": 9,
   "id": "86375900",
   "metadata": {
    "execution": {
     "iopub.execute_input": "2025-04-05T12:01:23.317963Z",
     "iopub.status.busy": "2025-04-05T12:01:23.317587Z",
     "iopub.status.idle": "2025-04-05T12:01:23.332331Z",
     "shell.execute_reply": "2025-04-05T12:01:23.330737Z"
    },
    "papermill": {
     "duration": 0.02263,
     "end_time": "2025-04-05T12:01:23.334473",
     "exception": false,
     "start_time": "2025-04-05T12:01:23.311843",
     "status": "completed"
    },
    "tags": []
   },
   "outputs": [
    {
     "name": "stdout",
     "output_type": "stream",
     "text": [
      "<class 'pandas.core.frame.DataFrame'>\n",
      "RangeIndex: 15000 entries, 0 to 14999\n",
      "Data columns (total 11 columns):\n",
      " #   Column       Non-Null Count  Dtype  \n",
      "---  ------       --------------  -----  \n",
      " 0   id           15000 non-null  int64  \n",
      " 1   N_Days       15000 non-null  float64\n",
      " 2   Age          15000 non-null  float64\n",
      " 3   Sex          15000 non-null  object \n",
      " 4   Edema        15000 non-null  object \n",
      " 5   Bilirubin    15000 non-null  float64\n",
      " 6   Albumin      15000 non-null  float64\n",
      " 7   Platelets    15000 non-null  float64\n",
      " 8   Prothrombin  15000 non-null  float64\n",
      " 9   Stage        15000 non-null  float64\n",
      " 10  Status       15000 non-null  object \n",
      "dtypes: float64(7), int64(1), object(3)\n",
      "memory usage: 1.3+ MB\n"
     ]
    }
   ],
   "source": [
    "train_data.info()"
   ]
  },
  {
   "cell_type": "code",
   "execution_count": 10,
   "id": "d2371e44",
   "metadata": {
    "execution": {
     "iopub.execute_input": "2025-04-05T12:01:23.347555Z",
     "iopub.status.busy": "2025-04-05T12:01:23.347157Z",
     "iopub.status.idle": "2025-04-05T12:01:23.359627Z",
     "shell.execute_reply": "2025-04-05T12:01:23.357793Z"
    },
    "papermill": {
     "duration": 0.021479,
     "end_time": "2025-04-05T12:01:23.361616",
     "exception": false,
     "start_time": "2025-04-05T12:01:23.340137",
     "status": "completed"
    },
    "tags": []
   },
   "outputs": [
    {
     "name": "stdout",
     "output_type": "stream",
     "text": [
      "Edema\n",
      "N    13845\n",
      "S      792\n",
      "Y      363\n",
      "Name: count, dtype: int64\n",
      "Status\n",
      "C     10053\n",
      "D      4565\n",
      "CL      381\n",
      "Y         1\n",
      "Name: count, dtype: int64\n",
      "Sex\n",
      "F    14392\n",
      "M      608\n",
      "Name: count, dtype: int64\n"
     ]
    }
   ],
   "source": [
    "print(train_data['Edema'].value_counts())\n",
    "print(train_data['Status'].value_counts())\n",
    "print(train_data['Sex'].value_counts())"
   ]
  },
  {
   "cell_type": "code",
   "execution_count": 11,
   "id": "5bff62b8",
   "metadata": {
    "execution": {
     "iopub.execute_input": "2025-04-05T12:01:23.373685Z",
     "iopub.status.busy": "2025-04-05T12:01:23.373234Z",
     "iopub.status.idle": "2025-04-05T12:01:23.379079Z",
     "shell.execute_reply": "2025-04-05T12:01:23.377812Z"
    },
    "papermill": {
     "duration": 0.014228,
     "end_time": "2025-04-05T12:01:23.380995",
     "exception": false,
     "start_time": "2025-04-05T12:01:23.366767",
     "status": "completed"
    },
    "tags": []
   },
   "outputs": [
    {
     "name": "stdout",
     "output_type": "stream",
     "text": [
      "Index(['id', 'N_Days', 'Age', 'Sex', 'Edema', 'Bilirubin', 'Albumin',\n",
      "       'Platelets', 'Prothrombin', 'Stage', 'Status'],\n",
      "      dtype='object')\n"
     ]
    }
   ],
   "source": [
    "print(train_data.columns)\n",
    "\n"
   ]
  },
  {
   "cell_type": "code",
   "execution_count": 12,
   "id": "42c93b28",
   "metadata": {
    "execution": {
     "iopub.execute_input": "2025-04-05T12:01:23.393151Z",
     "iopub.status.busy": "2025-04-05T12:01:23.392730Z",
     "iopub.status.idle": "2025-04-05T12:01:23.443875Z",
     "shell.execute_reply": "2025-04-05T12:01:23.442597Z"
    },
    "papermill": {
     "duration": 0.059485,
     "end_time": "2025-04-05T12:01:23.445905",
     "exception": false,
     "start_time": "2025-04-05T12:01:23.386420",
     "status": "completed"
    },
    "tags": []
   },
   "outputs": [
    {
     "name": "stdout",
     "output_type": "stream",
     "text": [
      "   id    N_Days       Age  Bilirubin   Albumin  Platelets  Prothrombin  \\\n",
      "0   0  0.154668 -0.770163  -0.503009 -0.876018   1.921267    -1.403667   \n",
      "1   1  0.504075 -0.401495  -0.390850  0.198512   1.888752     3.247483   \n",
      "2   2  0.822740 -0.383061  -0.278691  2.347573  -0.539020    -0.035682   \n",
      "3   3  0.183160 -0.020450  -0.390850  0.467145   0.902469    -1.403667   \n",
      "4   4  0.213152  0.606022   1.067220 -1.252104   0.490615     0.511513   \n",
      "\n",
      "      Stage Status  Sex_F  Sex_M  Edema_N  Edema_S  Edema_Y  \n",
      "0 -0.028464      C   True  False     True    False    False  \n",
      "1 -0.028464      C   True  False     True    False    False  \n",
      "2 -0.028464      C   True  False     True    False    False  \n",
      "3  1.119281      C   True  False     True    False    False  \n",
      "4 -1.176209      D   True  False     True    False    False  \n"
     ]
    }
   ],
   "source": [
    "train_data = pd.get_dummies(train_data, columns=['Sex', 'Edema'], drop_first=False)\n",
    "\n",
    "le = LabelEncoder()\n",
    "\n",
    "\n",
    "scaler = StandardScaler()\n",
    "\n",
    "numerical_columns = ['N_Days', 'Age', 'Bilirubin', 'Albumin', 'Platelets', 'Prothrombin', 'Stage']\n",
    "\n",
    "train_data[numerical_columns] = scaler.fit_transform(train_data[numerical_columns])\n",
    "\n",
    "print(train_data.head())"
   ]
  },
  {
   "cell_type": "code",
   "execution_count": 13,
   "id": "04c47980",
   "metadata": {
    "execution": {
     "iopub.execute_input": "2025-04-05T12:01:23.458169Z",
     "iopub.status.busy": "2025-04-05T12:01:23.457794Z",
     "iopub.status.idle": "2025-04-05T12:01:23.474239Z",
     "shell.execute_reply": "2025-04-05T12:01:23.472416Z"
    },
    "papermill": {
     "duration": 0.025064,
     "end_time": "2025-04-05T12:01:23.476290",
     "exception": false,
     "start_time": "2025-04-05T12:01:23.451226",
     "status": "completed"
    },
    "tags": []
   },
   "outputs": [
    {
     "name": "stdout",
     "output_type": "stream",
     "text": [
      "Train size: 12000 samples\n",
      "Validation size: 3000 samples\n",
      "Statuslar va ularning raqamlari: {'C': 0, 'CL': 1, 'D': 2, 'Y': 3}\n"
     ]
    }
   ],
   "source": [
    "# Target va featuresni ajratish\n",
    "X = train_data.drop(columns=['Status', 'id'])  # Status va idni ajratish\n",
    "y = le.fit_transform(train_data['Status'])  # Statusni LabelEncoder orqali raqamlashtirish\n",
    "\n",
    "# Train va validation setlarga bo‘lish\n",
    "X_train, X_val, y_train, y_val = train_test_split(X, y, test_size=0.2, random_state=42)\n",
    "\n",
    "print(f\"Train size: {X_train.shape[0]} samples\")\n",
    "print(f\"Validation size: {X_val.shape[0]} samples\")\n",
    "\n",
    "print(\"Statuslar va ularning raqamlari:\", dict(zip(le.classes_, range(len(le.classes_)))))"
   ]
  },
  {
   "cell_type": "code",
   "execution_count": null,
   "id": "79b29770",
   "metadata": {
    "papermill": {
     "duration": 0.00498,
     "end_time": "2025-04-05T12:01:23.486698",
     "exception": false,
     "start_time": "2025-04-05T12:01:23.481718",
     "status": "completed"
    },
    "tags": []
   },
   "outputs": [],
   "source": []
  }
 ],
 "metadata": {
  "kaggle": {
   "accelerator": "none",
   "dataSources": [
    {
     "databundleVersionId": 9248778,
     "sourceId": 83459,
     "sourceType": "competition"
    }
   ],
   "dockerImageVersionId": 30918,
   "isGpuEnabled": false,
   "isInternetEnabled": true,
   "language": "python",
   "sourceType": "notebook"
  },
  "kernelspec": {
   "display_name": "Python 3",
   "language": "python",
   "name": "python3"
  },
  "language_info": {
   "codemirror_mode": {
    "name": "ipython",
    "version": 3
   },
   "file_extension": ".py",
   "mimetype": "text/x-python",
   "name": "python",
   "nbconvert_exporter": "python",
   "pygments_lexer": "ipython3",
   "version": "3.10.12"
  },
  "papermill": {
   "default_parameters": {},
   "duration": 11.52092,
   "end_time": "2025-04-05T12:01:24.413958",
   "environment_variables": {},
   "exception": null,
   "input_path": "__notebook__.ipynb",
   "output_path": "__notebook__.ipynb",
   "parameters": {},
   "start_time": "2025-04-05T12:01:12.893038",
   "version": "2.6.0"
  }
 },
 "nbformat": 4,
 "nbformat_minor": 5
}
